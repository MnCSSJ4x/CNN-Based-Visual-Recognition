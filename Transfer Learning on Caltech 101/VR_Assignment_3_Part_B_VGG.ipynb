{
  "cells": [
    {
      "cell_type": "markdown",
      "metadata": {
        "id": "9tp0Zep2VpDz"
      },
      "source": [
        "## Code Sources\n",
        "\n",
        "- https://towardsdatascience.com/image-feature-extraction-using-pytorch-e3b327c3607a\n",
        "\n",
        "- https://github.com/MnCSSJ4x/VR-MiniProject/blob/main/VR3b.ipynb\n",
        "\n",
        "- https://colab.research.google.com/github/ashishpatel26/Awesome-Pytorch-Tutorials/blob/main/17.Pytorch%20Transfer%20learning%20with%20Caltech101.ipynb"
      ]
    },
    {
      "cell_type": "markdown",
      "metadata": {
        "id": "zpiDZ7_9RnPY"
      },
      "source": [
        "## CUDA"
      ]
    },
    {
      "cell_type": "code",
      "execution_count": 57,
      "metadata": {
        "id": "7-sEbkrKRxLP"
      },
      "outputs": [],
      "source": [
        "from torch import cuda\n",
        "from torch import device"
      ]
    },
    {
      "cell_type": "code",
      "execution_count": 58,
      "metadata": {
        "colab": {
          "base_uri": "https://localhost:8080/",
          "height": 36
        },
        "id": "hUHu-qGhRr6Q",
        "outputId": "6ed2b2e6-9f23-4614-dbea-71ce9380058f"
      },
      "outputs": [
        {
          "data": {
            "application/vnd.google.colaboratory.intrinsic+json": {
              "type": "string"
            },
            "text/plain": [
              "'cuda:0'"
            ]
          },
          "execution_count": 58,
          "metadata": {},
          "output_type": "execute_result"
        }
      ],
      "source": [
        "'cuda:0' if cuda.is_available() else 'cpu'"
      ]
    },
    {
      "cell_type": "code",
      "execution_count": 59,
      "metadata": {
        "id": "uQEGW47cRqn2"
      },
      "outputs": [],
      "source": [
        "device = device('cuda:0' if cuda.is_available() else 'cpu')\n"
      ]
    },
    {
      "cell_type": "markdown",
      "metadata": {
        "id": "J-qtCZBLFBT_"
      },
      "source": [
        "## VGG"
      ]
    },
    {
      "cell_type": "code",
      "execution_count": 60,
      "metadata": {
        "id": "n-INZElCMx8X"
      },
      "outputs": [],
      "source": [
        "from torchvision.models import vgg11"
      ]
    },
    {
      "cell_type": "code",
      "execution_count": 61,
      "metadata": {
        "colab": {
          "base_uri": "https://localhost:8080/"
        },
        "id": "kdZMI0445z9U",
        "outputId": "0b6078d6-4140-4f20-ced5-934bb5afb9a5"
      },
      "outputs": [
        {
          "name": "stderr",
          "output_type": "stream",
          "text": [
            "/usr/local/lib/python3.9/dist-packages/torchvision/models/_utils.py:208: UserWarning: The parameter 'pretrained' is deprecated since 0.13 and may be removed in the future, please use 'weights' instead.\n",
            "  warnings.warn(\n",
            "/usr/local/lib/python3.9/dist-packages/torchvision/models/_utils.py:223: UserWarning: Arguments other than a weight enum or `None` for 'weights' are deprecated since 0.13 and may be removed in the future. The current behavior is equivalent to passing `weights=VGG11_Weights.IMAGENET1K_V1`. You can also use `weights=VGG11_Weights.DEFAULT` to get the most up-to-date weights.\n",
            "  warnings.warn(msg)\n"
          ]
        },
        {
          "name": "stdout",
          "output_type": "stream",
          "text": [
            "VGG(\n",
            "  (features): Sequential(\n",
            "    (0): Conv2d(3, 64, kernel_size=(3, 3), stride=(1, 1), padding=(1, 1))\n",
            "    (1): ReLU(inplace=True)\n",
            "    (2): MaxPool2d(kernel_size=2, stride=2, padding=0, dilation=1, ceil_mode=False)\n",
            "    (3): Conv2d(64, 128, kernel_size=(3, 3), stride=(1, 1), padding=(1, 1))\n",
            "    (4): ReLU(inplace=True)\n",
            "    (5): MaxPool2d(kernel_size=2, stride=2, padding=0, dilation=1, ceil_mode=False)\n",
            "    (6): Conv2d(128, 256, kernel_size=(3, 3), stride=(1, 1), padding=(1, 1))\n",
            "    (7): ReLU(inplace=True)\n",
            "    (8): Conv2d(256, 256, kernel_size=(3, 3), stride=(1, 1), padding=(1, 1))\n",
            "    (9): ReLU(inplace=True)\n",
            "    (10): MaxPool2d(kernel_size=2, stride=2, padding=0, dilation=1, ceil_mode=False)\n",
            "    (11): Conv2d(256, 512, kernel_size=(3, 3), stride=(1, 1), padding=(1, 1))\n",
            "    (12): ReLU(inplace=True)\n",
            "    (13): Conv2d(512, 512, kernel_size=(3, 3), stride=(1, 1), padding=(1, 1))\n",
            "    (14): ReLU(inplace=True)\n",
            "    (15): MaxPool2d(kernel_size=2, stride=2, padding=0, dilation=1, ceil_mode=False)\n",
            "    (16): Conv2d(512, 512, kernel_size=(3, 3), stride=(1, 1), padding=(1, 1))\n",
            "    (17): ReLU(inplace=True)\n",
            "    (18): Conv2d(512, 512, kernel_size=(3, 3), stride=(1, 1), padding=(1, 1))\n",
            "    (19): ReLU(inplace=True)\n",
            "    (20): MaxPool2d(kernel_size=2, stride=2, padding=0, dilation=1, ceil_mode=False)\n",
            "  )\n",
            "  (avgpool): AdaptiveAvgPool2d(output_size=(7, 7))\n",
            "  (classifier): Sequential(\n",
            "    (0): Linear(in_features=25088, out_features=4096, bias=True)\n",
            "    (1): ReLU(inplace=True)\n",
            "    (2): Dropout(p=0.5, inplace=False)\n",
            "    (3): Linear(in_features=4096, out_features=4096, bias=True)\n",
            "    (4): ReLU(inplace=True)\n",
            "    (5): Dropout(p=0.5, inplace=False)\n",
            "    (6): Linear(in_features=4096, out_features=1000, bias=True)\n",
            "  )\n",
            ")\n"
          ]
        }
      ],
      "source": [
        "vgg = vgg11(pretrained=True)\n",
        "print(vgg)"
      ]
    },
    {
      "cell_type": "markdown",
      "metadata": {
        "id": "pTwVByGWFEE2"
      },
      "source": [
        "## Feature Extractor"
      ]
    },
    {
      "cell_type": "code",
      "execution_count": 62,
      "metadata": {
        "id": "5zeLaUvfM69s"
      },
      "outputs": [],
      "source": [
        "from torch import nn\n",
        "from torchsummary import summary"
      ]
    },
    {
      "cell_type": "code",
      "execution_count": 63,
      "metadata": {
        "id": "OvBI644s6P7z"
      },
      "outputs": [],
      "source": [
        "class FeatureExtractor(nn.Module):\n",
        "\n",
        "  def __init__(self, model):\n",
        "    super(FeatureExtractor, self).__init__()\n",
        "    # Extract Feature Layers\n",
        "    self.features = model.features\n",
        "    # Extract Average Pooling Layer\n",
        "    self.pooling = model.avgpool\n",
        "    # Convert the image into one-dimensional vector\n",
        "    self.flatten = nn.Flatten()\n",
        "  \n",
        "  def forward(self, x):\n",
        "    # Take image x and return a feature vector\n",
        "    out = self.features(x)\n",
        "    out = self.pooling(out)\n",
        "    out = self.flatten(out)\n",
        "    return out \n",
        "\n",
        "feature_extractor = FeatureExtractor(vgg)\n",
        "feature_extractor = feature_extractor.to(device)"
      ]
    },
    {
      "cell_type": "code",
      "execution_count": 64,
      "metadata": {
        "colab": {
          "base_uri": "https://localhost:8080/"
        },
        "id": "ZUMZTWO1J1Pc",
        "outputId": "5b0cc171-a796-475a-e811-bb4b5bee4a46"
      },
      "outputs": [
        {
          "name": "stdout",
          "output_type": "stream",
          "text": [
            "----------------------------------------------------------------\n",
            "        Layer (type)               Output Shape         Param #\n",
            "================================================================\n",
            "            Conv2d-1         [-1, 64, 224, 224]           1,792\n",
            "              ReLU-2         [-1, 64, 224, 224]               0\n",
            "         MaxPool2d-3         [-1, 64, 112, 112]               0\n",
            "            Conv2d-4        [-1, 128, 112, 112]          73,856\n",
            "              ReLU-5        [-1, 128, 112, 112]               0\n",
            "         MaxPool2d-6          [-1, 128, 56, 56]               0\n",
            "            Conv2d-7          [-1, 256, 56, 56]         295,168\n",
            "              ReLU-8          [-1, 256, 56, 56]               0\n",
            "            Conv2d-9          [-1, 256, 56, 56]         590,080\n",
            "             ReLU-10          [-1, 256, 56, 56]               0\n",
            "        MaxPool2d-11          [-1, 256, 28, 28]               0\n",
            "           Conv2d-12          [-1, 512, 28, 28]       1,180,160\n",
            "             ReLU-13          [-1, 512, 28, 28]               0\n",
            "           Conv2d-14          [-1, 512, 28, 28]       2,359,808\n",
            "             ReLU-15          [-1, 512, 28, 28]               0\n",
            "        MaxPool2d-16          [-1, 512, 14, 14]               0\n",
            "           Conv2d-17          [-1, 512, 14, 14]       2,359,808\n",
            "             ReLU-18          [-1, 512, 14, 14]               0\n",
            "           Conv2d-19          [-1, 512, 14, 14]       2,359,808\n",
            "             ReLU-20          [-1, 512, 14, 14]               0\n",
            "        MaxPool2d-21            [-1, 512, 7, 7]               0\n",
            "AdaptiveAvgPool2d-22            [-1, 512, 7, 7]               0\n",
            "          Flatten-23                [-1, 25088]               0\n",
            "================================================================\n",
            "Total params: 9,220,480\n",
            "Trainable params: 9,220,480\n",
            "Non-trainable params: 0\n",
            "----------------------------------------------------------------\n",
            "Input size (MB): 0.57\n",
            "Forward/backward pass size (MB): 125.37\n",
            "Params size (MB): 35.17\n",
            "Estimated Total Size (MB): 161.12\n",
            "----------------------------------------------------------------\n",
            "None\n"
          ]
        }
      ],
      "source": [
        "print(summary(feature_extractor, input_size=(3, 224, 224)))"
      ]
    },
    {
      "cell_type": "code",
      "execution_count": 65,
      "metadata": {
        "id": "qfpdN5pKN6Gy"
      },
      "outputs": [],
      "source": [
        "import cv2\n",
        "from torchvision import transforms\n",
        "from torch import no_grad"
      ]
    },
    {
      "cell_type": "markdown",
      "metadata": {
        "id": "KxvpslPiFHRN"
      },
      "source": [
        "## Extract Features for Caltech 101 Dataset"
      ]
    },
    {
      "cell_type": "code",
      "execution_count": 66,
      "metadata": {
        "id": "9shyNGYEWXmf"
      },
      "outputs": [],
      "source": [
        "import tarfile\n",
        "from imutils import paths\n",
        "import os\n",
        "import cv2\n",
        "import numpy as np\n",
        "from torchvision import transforms\n",
        "import pandas as pd"
      ]
    },
    {
      "cell_type": "code",
      "execution_count": 67,
      "metadata": {
        "colab": {
          "base_uri": "https://localhost:8080/"
        },
        "id": "A6YN8z-6NPu2",
        "outputId": "cead0d66-4c38-4f56-8d28-6b5a12a1ecb1"
      },
      "outputs": [
        {
          "name": "stdout",
          "output_type": "stream",
          "text": [
            "Drive already mounted at /content/drive; to attempt to forcibly remount, call drive.mount(\"/content/drive\", force_remount=True).\n"
          ]
        }
      ],
      "source": [
        "from google.colab import drive\n",
        "drive.mount('/content/drive')"
      ]
    },
    {
      "cell_type": "code",
      "execution_count": 68,
      "metadata": {
        "id": "tnBFVeoSCsEY"
      },
      "outputs": [],
      "source": [
        "with tarfile.open('drive/MyDrive/101_ObjectCategories.tar.gz', 'r:gz') as tar:\n",
        "    tar.extractall()"
      ]
    },
    {
      "cell_type": "code",
      "execution_count": 69,
      "metadata": {
        "id": "BGwUX7UwFOMU"
      },
      "outputs": [],
      "source": [
        "image_paths = list(paths.list_images('./101_ObjectCategories'))\n",
        "\n",
        "images = []\n",
        "labels = []\n",
        "\n",
        "for img_path in image_paths:\n",
        "\n",
        "    label = img_path.split(os.path.sep)[-2]\n",
        "    if label == \"BACKGROUND_Google\":\n",
        "        continue\n",
        "    img = cv2.imread(img_path)\n",
        "    img = cv2.cvtColor(img, cv2.COLOR_BGR2RGB)\n",
        "    \n",
        "    images.append(img)\n",
        "    labels.append(label)\n",
        "    \n",
        "images = np.array(images, dtype=object)\n",
        "labels = np.array(labels)"
      ]
    },
    {
      "cell_type": "code",
      "execution_count": 70,
      "metadata": {
        "id": "iE7QJLCvGP55"
      },
      "outputs": [],
      "source": [
        "transform = transforms.Compose([\n",
        "    transforms.ToPILImage(),\n",
        "    transforms.Resize((224, 224)),\n",
        "    transforms.ToTensor(),\n",
        "    transforms.Normalize(mean=[0.485, 0.456, 0.406], std=[0.229, 0.224, 0.225]),\n",
        "])"
      ]
    },
    {
      "cell_type": "code",
      "execution_count": 71,
      "metadata": {
        "id": "Oc38hYPCYX0V"
      },
      "outputs": [],
      "source": [
        "features_array = []\n",
        "\n",
        "for i in range(len(images)):\n",
        "    img = images[i]\n",
        "    img = transform(img)\n",
        "    img = img.reshape(1, 3, 224, 224)\n",
        "    img = img.to(device)\n",
        "    with no_grad():\n",
        "        img_features = feature_extractor(img)\n",
        "    img_features = img_features.cpu().detach().numpy().reshape(-1)\n",
        "    features_array.append(img_features)"
      ]
    },
    {
      "cell_type": "code",
      "execution_count": 72,
      "metadata": {
        "colab": {
          "base_uri": "https://localhost:8080/"
        },
        "id": "qNKNLIATZyjS",
        "outputId": "213afe5d-e013-4c21-838f-5a409907250c"
      },
      "outputs": [
        {
          "data": {
            "text/plain": [
              "(8677, 25088)"
            ]
          },
          "execution_count": 72,
          "metadata": {},
          "output_type": "execute_result"
        }
      ],
      "source": [
        "np.array(features_array).shape"
      ]
    },
    {
      "cell_type": "code",
      "execution_count": 73,
      "metadata": {
        "id": "rnQEMZzca25U"
      },
      "outputs": [],
      "source": [
        "X = np.array(features_array)\n",
        "y = np.array(labels)"
      ]
    },
    {
      "cell_type": "code",
      "execution_count": 74,
      "metadata": {
        "id": "JN0dBVFfbOWa"
      },
      "outputs": [],
      "source": [
        "df = pd.DataFrame(X)\n",
        "df['label'] = y"
      ]
    },
    {
      "cell_type": "code",
      "execution_count": 75,
      "metadata": {
        "colab": {
          "base_uri": "https://localhost:8080/",
          "height": 487
        },
        "id": "l9DQorCIbgqH",
        "outputId": "1146e10a-3455-4d0e-ad8c-7f7deeb017e8"
      },
      "outputs": [
        {
          "data": {
            "text/html": [
              "\n",
              "  <div id=\"df-cdc8fd13-daf7-48f7-b13c-b57739848599\">\n",
              "    <div class=\"colab-df-container\">\n",
              "      <div>\n",
              "<style scoped>\n",
              "    .dataframe tbody tr th:only-of-type {\n",
              "        vertical-align: middle;\n",
              "    }\n",
              "\n",
              "    .dataframe tbody tr th {\n",
              "        vertical-align: top;\n",
              "    }\n",
              "\n",
              "    .dataframe thead th {\n",
              "        text-align: right;\n",
              "    }\n",
              "</style>\n",
              "<table border=\"1\" class=\"dataframe\">\n",
              "  <thead>\n",
              "    <tr style=\"text-align: right;\">\n",
              "      <th></th>\n",
              "      <th>0</th>\n",
              "      <th>1</th>\n",
              "      <th>2</th>\n",
              "      <th>3</th>\n",
              "      <th>4</th>\n",
              "      <th>5</th>\n",
              "      <th>6</th>\n",
              "      <th>7</th>\n",
              "      <th>8</th>\n",
              "      <th>9</th>\n",
              "      <th>...</th>\n",
              "      <th>25079</th>\n",
              "      <th>25080</th>\n",
              "      <th>25081</th>\n",
              "      <th>25082</th>\n",
              "      <th>25083</th>\n",
              "      <th>25084</th>\n",
              "      <th>25085</th>\n",
              "      <th>25086</th>\n",
              "      <th>25087</th>\n",
              "      <th>label</th>\n",
              "    </tr>\n",
              "  </thead>\n",
              "  <tbody>\n",
              "    <tr>\n",
              "      <th>0</th>\n",
              "      <td>0.010238</td>\n",
              "      <td>0.659768</td>\n",
              "      <td>0.000000</td>\n",
              "      <td>0.000000</td>\n",
              "      <td>0.000000</td>\n",
              "      <td>0.623120</td>\n",
              "      <td>0.000000</td>\n",
              "      <td>0.0</td>\n",
              "      <td>0.000000</td>\n",
              "      <td>0.000000</td>\n",
              "      <td>...</td>\n",
              "      <td>0.000000</td>\n",
              "      <td>0.000000</td>\n",
              "      <td>0.000000</td>\n",
              "      <td>0.000000</td>\n",
              "      <td>0.000000</td>\n",
              "      <td>0.000000</td>\n",
              "      <td>0.000000</td>\n",
              "      <td>0.000000</td>\n",
              "      <td>0.000000</td>\n",
              "      <td>okapi</td>\n",
              "    </tr>\n",
              "    <tr>\n",
              "      <th>1</th>\n",
              "      <td>0.000000</td>\n",
              "      <td>0.000000</td>\n",
              "      <td>0.000000</td>\n",
              "      <td>0.000000</td>\n",
              "      <td>0.000000</td>\n",
              "      <td>0.000000</td>\n",
              "      <td>0.000000</td>\n",
              "      <td>0.0</td>\n",
              "      <td>0.000000</td>\n",
              "      <td>0.000000</td>\n",
              "      <td>...</td>\n",
              "      <td>1.296640</td>\n",
              "      <td>0.924659</td>\n",
              "      <td>0.714404</td>\n",
              "      <td>2.672418</td>\n",
              "      <td>2.833159</td>\n",
              "      <td>1.084479</td>\n",
              "      <td>0.553126</td>\n",
              "      <td>2.131860</td>\n",
              "      <td>2.483721</td>\n",
              "      <td>okapi</td>\n",
              "    </tr>\n",
              "    <tr>\n",
              "      <th>2</th>\n",
              "      <td>0.000000</td>\n",
              "      <td>0.000000</td>\n",
              "      <td>0.000000</td>\n",
              "      <td>0.000000</td>\n",
              "      <td>0.000000</td>\n",
              "      <td>0.000000</td>\n",
              "      <td>0.047247</td>\n",
              "      <td>0.0</td>\n",
              "      <td>0.000000</td>\n",
              "      <td>0.000000</td>\n",
              "      <td>...</td>\n",
              "      <td>2.871006</td>\n",
              "      <td>2.271220</td>\n",
              "      <td>0.000000</td>\n",
              "      <td>0.000000</td>\n",
              "      <td>0.000000</td>\n",
              "      <td>0.000000</td>\n",
              "      <td>0.000000</td>\n",
              "      <td>0.000000</td>\n",
              "      <td>0.000000</td>\n",
              "      <td>okapi</td>\n",
              "    </tr>\n",
              "    <tr>\n",
              "      <th>3</th>\n",
              "      <td>0.000000</td>\n",
              "      <td>0.000000</td>\n",
              "      <td>0.000000</td>\n",
              "      <td>0.000000</td>\n",
              "      <td>0.000000</td>\n",
              "      <td>2.053960</td>\n",
              "      <td>0.000000</td>\n",
              "      <td>0.0</td>\n",
              "      <td>0.000000</td>\n",
              "      <td>0.000000</td>\n",
              "      <td>...</td>\n",
              "      <td>0.000000</td>\n",
              "      <td>0.000000</td>\n",
              "      <td>0.000000</td>\n",
              "      <td>0.000000</td>\n",
              "      <td>0.000000</td>\n",
              "      <td>0.000000</td>\n",
              "      <td>0.000000</td>\n",
              "      <td>0.000000</td>\n",
              "      <td>0.000000</td>\n",
              "      <td>okapi</td>\n",
              "    </tr>\n",
              "    <tr>\n",
              "      <th>4</th>\n",
              "      <td>0.035070</td>\n",
              "      <td>1.269113</td>\n",
              "      <td>0.000000</td>\n",
              "      <td>0.000000</td>\n",
              "      <td>0.000000</td>\n",
              "      <td>0.000000</td>\n",
              "      <td>0.000000</td>\n",
              "      <td>0.0</td>\n",
              "      <td>0.000000</td>\n",
              "      <td>0.000000</td>\n",
              "      <td>...</td>\n",
              "      <td>0.000000</td>\n",
              "      <td>0.000000</td>\n",
              "      <td>0.000000</td>\n",
              "      <td>2.564570</td>\n",
              "      <td>3.207772</td>\n",
              "      <td>0.379335</td>\n",
              "      <td>2.440877</td>\n",
              "      <td>1.041688</td>\n",
              "      <td>0.000000</td>\n",
              "      <td>okapi</td>\n",
              "    </tr>\n",
              "    <tr>\n",
              "      <th>...</th>\n",
              "      <td>...</td>\n",
              "      <td>...</td>\n",
              "      <td>...</td>\n",
              "      <td>...</td>\n",
              "      <td>...</td>\n",
              "      <td>...</td>\n",
              "      <td>...</td>\n",
              "      <td>...</td>\n",
              "      <td>...</td>\n",
              "      <td>...</td>\n",
              "      <td>...</td>\n",
              "      <td>...</td>\n",
              "      <td>...</td>\n",
              "      <td>...</td>\n",
              "      <td>...</td>\n",
              "      <td>...</td>\n",
              "      <td>...</td>\n",
              "      <td>...</td>\n",
              "      <td>...</td>\n",
              "      <td>...</td>\n",
              "      <td>...</td>\n",
              "    </tr>\n",
              "    <tr>\n",
              "      <th>8672</th>\n",
              "      <td>0.994941</td>\n",
              "      <td>0.255210</td>\n",
              "      <td>0.000000</td>\n",
              "      <td>0.000000</td>\n",
              "      <td>0.000000</td>\n",
              "      <td>0.000000</td>\n",
              "      <td>0.132186</td>\n",
              "      <td>0.0</td>\n",
              "      <td>0.000000</td>\n",
              "      <td>0.765939</td>\n",
              "      <td>...</td>\n",
              "      <td>0.000000</td>\n",
              "      <td>0.000000</td>\n",
              "      <td>0.000000</td>\n",
              "      <td>0.000000</td>\n",
              "      <td>0.000000</td>\n",
              "      <td>0.000000</td>\n",
              "      <td>0.000000</td>\n",
              "      <td>0.000000</td>\n",
              "      <td>0.000000</td>\n",
              "      <td>stop_sign</td>\n",
              "    </tr>\n",
              "    <tr>\n",
              "      <th>8673</th>\n",
              "      <td>0.000000</td>\n",
              "      <td>0.000000</td>\n",
              "      <td>0.291836</td>\n",
              "      <td>1.152500</td>\n",
              "      <td>4.590219</td>\n",
              "      <td>0.000000</td>\n",
              "      <td>0.000000</td>\n",
              "      <td>0.0</td>\n",
              "      <td>2.784130</td>\n",
              "      <td>3.775471</td>\n",
              "      <td>...</td>\n",
              "      <td>0.000000</td>\n",
              "      <td>0.000000</td>\n",
              "      <td>0.000000</td>\n",
              "      <td>0.000000</td>\n",
              "      <td>0.000000</td>\n",
              "      <td>0.000000</td>\n",
              "      <td>0.953423</td>\n",
              "      <td>0.531103</td>\n",
              "      <td>0.000000</td>\n",
              "      <td>stop_sign</td>\n",
              "    </tr>\n",
              "    <tr>\n",
              "      <th>8674</th>\n",
              "      <td>0.000000</td>\n",
              "      <td>0.000000</td>\n",
              "      <td>0.000000</td>\n",
              "      <td>0.000000</td>\n",
              "      <td>0.000000</td>\n",
              "      <td>0.000000</td>\n",
              "      <td>0.000000</td>\n",
              "      <td>0.0</td>\n",
              "      <td>0.234216</td>\n",
              "      <td>6.315652</td>\n",
              "      <td>...</td>\n",
              "      <td>0.000000</td>\n",
              "      <td>0.000000</td>\n",
              "      <td>0.000000</td>\n",
              "      <td>0.000000</td>\n",
              "      <td>0.000000</td>\n",
              "      <td>0.000000</td>\n",
              "      <td>0.000000</td>\n",
              "      <td>0.000000</td>\n",
              "      <td>0.000000</td>\n",
              "      <td>stop_sign</td>\n",
              "    </tr>\n",
              "    <tr>\n",
              "      <th>8675</th>\n",
              "      <td>0.000000</td>\n",
              "      <td>1.118129</td>\n",
              "      <td>1.098119</td>\n",
              "      <td>0.100004</td>\n",
              "      <td>1.713001</td>\n",
              "      <td>2.250898</td>\n",
              "      <td>1.780118</td>\n",
              "      <td>0.0</td>\n",
              "      <td>3.472008</td>\n",
              "      <td>2.819709</td>\n",
              "      <td>...</td>\n",
              "      <td>0.000000</td>\n",
              "      <td>0.000000</td>\n",
              "      <td>0.000000</td>\n",
              "      <td>0.000000</td>\n",
              "      <td>0.000000</td>\n",
              "      <td>0.000000</td>\n",
              "      <td>0.232650</td>\n",
              "      <td>0.000000</td>\n",
              "      <td>0.000000</td>\n",
              "      <td>stop_sign</td>\n",
              "    </tr>\n",
              "    <tr>\n",
              "      <th>8676</th>\n",
              "      <td>0.000000</td>\n",
              "      <td>1.945601</td>\n",
              "      <td>9.986675</td>\n",
              "      <td>9.378363</td>\n",
              "      <td>11.834953</td>\n",
              "      <td>0.000000</td>\n",
              "      <td>0.000000</td>\n",
              "      <td>0.0</td>\n",
              "      <td>3.636844</td>\n",
              "      <td>11.619118</td>\n",
              "      <td>...</td>\n",
              "      <td>0.000000</td>\n",
              "      <td>0.000000</td>\n",
              "      <td>0.000000</td>\n",
              "      <td>0.000000</td>\n",
              "      <td>0.240826</td>\n",
              "      <td>3.873932</td>\n",
              "      <td>3.996726</td>\n",
              "      <td>0.813472</td>\n",
              "      <td>0.000000</td>\n",
              "      <td>stop_sign</td>\n",
              "    </tr>\n",
              "  </tbody>\n",
              "</table>\n",
              "<p>8677 rows × 25089 columns</p>\n",
              "</div>\n",
              "      <button class=\"colab-df-convert\" onclick=\"convertToInteractive('df-cdc8fd13-daf7-48f7-b13c-b57739848599')\"\n",
              "              title=\"Convert this dataframe to an interactive table.\"\n",
              "              style=\"display:none;\">\n",
              "        \n",
              "  <svg xmlns=\"http://www.w3.org/2000/svg\" height=\"24px\"viewBox=\"0 0 24 24\"\n",
              "       width=\"24px\">\n",
              "    <path d=\"M0 0h24v24H0V0z\" fill=\"none\"/>\n",
              "    <path d=\"M18.56 5.44l.94 2.06.94-2.06 2.06-.94-2.06-.94-.94-2.06-.94 2.06-2.06.94zm-11 1L8.5 8.5l.94-2.06 2.06-.94-2.06-.94L8.5 2.5l-.94 2.06-2.06.94zm10 10l.94 2.06.94-2.06 2.06-.94-2.06-.94-.94-2.06-.94 2.06-2.06.94z\"/><path d=\"M17.41 7.96l-1.37-1.37c-.4-.4-.92-.59-1.43-.59-.52 0-1.04.2-1.43.59L10.3 9.45l-7.72 7.72c-.78.78-.78 2.05 0 2.83L4 21.41c.39.39.9.59 1.41.59.51 0 1.02-.2 1.41-.59l7.78-7.78 2.81-2.81c.8-.78.8-2.07 0-2.86zM5.41 20L4 18.59l7.72-7.72 1.47 1.35L5.41 20z\"/>\n",
              "  </svg>\n",
              "      </button>\n",
              "      \n",
              "  <style>\n",
              "    .colab-df-container {\n",
              "      display:flex;\n",
              "      flex-wrap:wrap;\n",
              "      gap: 12px;\n",
              "    }\n",
              "\n",
              "    .colab-df-convert {\n",
              "      background-color: #E8F0FE;\n",
              "      border: none;\n",
              "      border-radius: 50%;\n",
              "      cursor: pointer;\n",
              "      display: none;\n",
              "      fill: #1967D2;\n",
              "      height: 32px;\n",
              "      padding: 0 0 0 0;\n",
              "      width: 32px;\n",
              "    }\n",
              "\n",
              "    .colab-df-convert:hover {\n",
              "      background-color: #E2EBFA;\n",
              "      box-shadow: 0px 1px 2px rgba(60, 64, 67, 0.3), 0px 1px 3px 1px rgba(60, 64, 67, 0.15);\n",
              "      fill: #174EA6;\n",
              "    }\n",
              "\n",
              "    [theme=dark] .colab-df-convert {\n",
              "      background-color: #3B4455;\n",
              "      fill: #D2E3FC;\n",
              "    }\n",
              "\n",
              "    [theme=dark] .colab-df-convert:hover {\n",
              "      background-color: #434B5C;\n",
              "      box-shadow: 0px 1px 3px 1px rgba(0, 0, 0, 0.15);\n",
              "      filter: drop-shadow(0px 1px 2px rgba(0, 0, 0, 0.3));\n",
              "      fill: #FFFFFF;\n",
              "    }\n",
              "  </style>\n",
              "\n",
              "      <script>\n",
              "        const buttonEl =\n",
              "          document.querySelector('#df-cdc8fd13-daf7-48f7-b13c-b57739848599 button.colab-df-convert');\n",
              "        buttonEl.style.display =\n",
              "          google.colab.kernel.accessAllowed ? 'block' : 'none';\n",
              "\n",
              "        async function convertToInteractive(key) {\n",
              "          const element = document.querySelector('#df-cdc8fd13-daf7-48f7-b13c-b57739848599');\n",
              "          const dataTable =\n",
              "            await google.colab.kernel.invokeFunction('convertToInteractive',\n",
              "                                                     [key], {});\n",
              "          if (!dataTable) return;\n",
              "\n",
              "          const docLinkHtml = 'Like what you see? Visit the ' +\n",
              "            '<a target=\"_blank\" href=https://colab.research.google.com/notebooks/data_table.ipynb>data table notebook</a>'\n",
              "            + ' to learn more about interactive tables.';\n",
              "          element.innerHTML = '';\n",
              "          dataTable['output_type'] = 'display_data';\n",
              "          await google.colab.output.renderOutput(dataTable, element);\n",
              "          const docLink = document.createElement('div');\n",
              "          docLink.innerHTML = docLinkHtml;\n",
              "          element.appendChild(docLink);\n",
              "        }\n",
              "      </script>\n",
              "    </div>\n",
              "  </div>\n",
              "  "
            ],
            "text/plain": [
              "             0         1         2         3          4         5         6  \\\n",
              "0     0.010238  0.659768  0.000000  0.000000   0.000000  0.623120  0.000000   \n",
              "1     0.000000  0.000000  0.000000  0.000000   0.000000  0.000000  0.000000   \n",
              "2     0.000000  0.000000  0.000000  0.000000   0.000000  0.000000  0.047247   \n",
              "3     0.000000  0.000000  0.000000  0.000000   0.000000  2.053960  0.000000   \n",
              "4     0.035070  1.269113  0.000000  0.000000   0.000000  0.000000  0.000000   \n",
              "...        ...       ...       ...       ...        ...       ...       ...   \n",
              "8672  0.994941  0.255210  0.000000  0.000000   0.000000  0.000000  0.132186   \n",
              "8673  0.000000  0.000000  0.291836  1.152500   4.590219  0.000000  0.000000   \n",
              "8674  0.000000  0.000000  0.000000  0.000000   0.000000  0.000000  0.000000   \n",
              "8675  0.000000  1.118129  1.098119  0.100004   1.713001  2.250898  1.780118   \n",
              "8676  0.000000  1.945601  9.986675  9.378363  11.834953  0.000000  0.000000   \n",
              "\n",
              "        7         8          9  ...     25079     25080     25081     25082  \\\n",
              "0     0.0  0.000000   0.000000  ...  0.000000  0.000000  0.000000  0.000000   \n",
              "1     0.0  0.000000   0.000000  ...  1.296640  0.924659  0.714404  2.672418   \n",
              "2     0.0  0.000000   0.000000  ...  2.871006  2.271220  0.000000  0.000000   \n",
              "3     0.0  0.000000   0.000000  ...  0.000000  0.000000  0.000000  0.000000   \n",
              "4     0.0  0.000000   0.000000  ...  0.000000  0.000000  0.000000  2.564570   \n",
              "...   ...       ...        ...  ...       ...       ...       ...       ...   \n",
              "8672  0.0  0.000000   0.765939  ...  0.000000  0.000000  0.000000  0.000000   \n",
              "8673  0.0  2.784130   3.775471  ...  0.000000  0.000000  0.000000  0.000000   \n",
              "8674  0.0  0.234216   6.315652  ...  0.000000  0.000000  0.000000  0.000000   \n",
              "8675  0.0  3.472008   2.819709  ...  0.000000  0.000000  0.000000  0.000000   \n",
              "8676  0.0  3.636844  11.619118  ...  0.000000  0.000000  0.000000  0.000000   \n",
              "\n",
              "         25083     25084     25085     25086     25087      label  \n",
              "0     0.000000  0.000000  0.000000  0.000000  0.000000      okapi  \n",
              "1     2.833159  1.084479  0.553126  2.131860  2.483721      okapi  \n",
              "2     0.000000  0.000000  0.000000  0.000000  0.000000      okapi  \n",
              "3     0.000000  0.000000  0.000000  0.000000  0.000000      okapi  \n",
              "4     3.207772  0.379335  2.440877  1.041688  0.000000      okapi  \n",
              "...        ...       ...       ...       ...       ...        ...  \n",
              "8672  0.000000  0.000000  0.000000  0.000000  0.000000  stop_sign  \n",
              "8673  0.000000  0.000000  0.953423  0.531103  0.000000  stop_sign  \n",
              "8674  0.000000  0.000000  0.000000  0.000000  0.000000  stop_sign  \n",
              "8675  0.000000  0.000000  0.232650  0.000000  0.000000  stop_sign  \n",
              "8676  0.240826  3.873932  3.996726  0.813472  0.000000  stop_sign  \n",
              "\n",
              "[8677 rows x 25089 columns]"
            ]
          },
          "execution_count": 75,
          "metadata": {},
          "output_type": "execute_result"
        }
      ],
      "source": [
        "df"
      ]
    },
    {
      "cell_type": "code",
      "execution_count": 76,
      "metadata": {
        "id": "HikSviWDOFwI"
      },
      "outputs": [],
      "source": [
        "X=df.drop(\"label\",axis=1)\n",
        "y=df[\"label\"]\n",
        "import pickle\n",
        "# Open a file and use dump()\n",
        "with open('X.pkl', 'wb') as file:\n",
        "    pickle.dump(X, file)\n",
        "    \n",
        "with open('y.pkl', 'wb') as file:\n",
        "    pickle.dump(y, file)"
      ]
    },
    {
      "cell_type": "code",
      "execution_count": 77,
      "metadata": {
        "id": "GCw8Hj1vOMG6"
      },
      "outputs": [],
      "source": [
        "import pickle\n",
        "  \n",
        "# Open the file in binary mode\n",
        "with open('/content/drive/MyDrive/X.pkl', 'rb') as file:\n",
        "    # Call load method to deserialze\n",
        "    X = pickle.load(file)\n",
        "with open('/content/drive/MyDrive/y.pkl', 'rb') as file:\n",
        "    # Call load method to deserialze\n",
        "    y = pickle.load(file)"
      ]
    },
    {
      "attachments": {},
      "cell_type": "markdown",
      "metadata": {},
      "source": [
        "### PCA with n_components=3000"
      ]
    },
    {
      "cell_type": "code",
      "execution_count": 78,
      "metadata": {
        "colab": {
          "base_uri": "https://localhost:8080/"
        },
        "id": "XuYlHMqlOOhf",
        "outputId": "65053230-04f5-41fd-9d32-0d298a631de4"
      },
      "outputs": [
        {
          "data": {
            "text/plain": [
              "array([[ 8.6046972e+00, -1.6968899e+01, -6.3934875e-01, ...,\n",
              "        -3.3809289e-01,  5.8985364e-02, -4.0231389e-01],\n",
              "       [ 7.1702423e+00, -1.0276338e+01,  3.6042738e+00, ...,\n",
              "         4.3040797e-01, -2.8411938e-02,  3.8878322e-01],\n",
              "       [-1.6676918e+01, -2.5323187e+01, -1.4546244e+01, ...,\n",
              "         7.3668361e-02, -1.0873244e-01, -6.6175240e-01],\n",
              "       ...,\n",
              "       [-1.8654156e+01, -6.7168102e+00, -9.1311483e+00, ...,\n",
              "         4.0779757e-01, -7.9280919e-01,  1.1923943e+00],\n",
              "       [ 1.4903467e+00, -1.3152141e+01, -3.4190893e+00, ...,\n",
              "        -4.9426234e-03, -1.1872965e+00, -6.1413855e-03],\n",
              "       [ 1.2132151e+01, -1.5452773e+01,  1.3334217e+01, ...,\n",
              "         3.4842189e-02,  1.3406953e-02, -3.2451493e-01]], dtype=float32)"
            ]
          },
          "execution_count": 78,
          "metadata": {},
          "output_type": "execute_result"
        }
      ],
      "source": [
        "from sklearn.decomposition import PCA\n",
        "pca = PCA(n_components=3000)\n",
        "X=pca.fit_transform(X)\n",
        "X"
      ]
    },
    {
      "cell_type": "code",
      "execution_count": 79,
      "metadata": {
        "colab": {
          "base_uri": "https://localhost:8080/"
        },
        "id": "UtYyfnNjOV-v",
        "outputId": "29c68f4c-0dae-431a-ba80-2027bf04c657"
      },
      "outputs": [
        {
          "data": {
            "text/plain": [
              "(5813, 3000)"
            ]
          },
          "execution_count": 79,
          "metadata": {},
          "output_type": "execute_result"
        }
      ],
      "source": [
        "from sklearn.model_selection import train_test_split\n",
        "X_train, X_test, y_train, y_test = train_test_split(X, y, test_size=0.33, random_state=42)\n",
        "X_train.shape"
      ]
    },
    {
      "cell_type": "code",
      "execution_count": 80,
      "metadata": {
        "colab": {
          "base_uri": "https://localhost:8080/"
        },
        "id": "FG_lDv3NOWug",
        "outputId": "1df7fe91-3c7e-4a94-dfe7-c73436f7fb53"
      },
      "outputs": [
        {
          "data": {
            "text/plain": [
              "0.9221368715083799"
            ]
          },
          "execution_count": 80,
          "metadata": {},
          "output_type": "execute_result"
        }
      ],
      "source": [
        "from sklearn.linear_model import LogisticRegression\n",
        "clf = LogisticRegression(max_iter=100000).fit(X_train, y_train)\n",
        "y_pred = clf.predict(X_test)\n",
        "clf.score(X_test,y_test)"
      ]
    },
    {
      "cell_type": "code",
      "execution_count": 81,
      "metadata": {
        "colab": {
          "base_uri": "https://localhost:8080/"
        },
        "id": "Vbhv4qRcTnho",
        "outputId": "bc66848f-e3db-4f61-8b35-96dea74e920a"
      },
      "outputs": [
        {
          "data": {
            "text/plain": [
              "0.5495810055865922"
            ]
          },
          "execution_count": 81,
          "metadata": {},
          "output_type": "execute_result"
        }
      ],
      "source": [
        "from sklearn.pipeline import make_pipeline\n",
        "from sklearn.svm import SVC\n",
        "from sklearn.preprocessing import StandardScaler\n",
        "clf = make_pipeline(StandardScaler(), SVC(gamma='auto',kernel='linear'))\n",
        "clf.fit(X_train, y_train)\n",
        "clf.score(X_test,y_test)"
      ]
    },
    {
      "cell_type": "code",
      "execution_count": 82,
      "metadata": {
        "colab": {
          "base_uri": "https://localhost:8080/"
        },
        "id": "7j5Lfh9w16r5",
        "outputId": "8a69aa79-8222-4457-d426-5b793422336a"
      },
      "outputs": [
        {
          "data": {
            "text/plain": [
              "0.31110335195530725"
            ]
          },
          "execution_count": 82,
          "metadata": {},
          "output_type": "execute_result"
        }
      ],
      "source": [
        "from sklearn.pipeline import make_pipeline\n",
        "from sklearn.svm import SVC\n",
        "from sklearn.preprocessing import StandardScaler\n",
        "clf = make_pipeline(StandardScaler(), SVC(gamma='auto',kernel='rbf'))\n",
        "clf.fit(X_train, y_train)\n",
        "clf.score(X_test,y_test)"
      ]
    },
    {
      "cell_type": "code",
      "execution_count": 83,
      "metadata": {
        "colab": {
          "base_uri": "https://localhost:8080/"
        },
        "id": "uqUPQd47Tnbw",
        "outputId": "9cc6ae7b-0b60-45d4-9786-98421e827bd8"
      },
      "outputs": [
        {
          "data": {
            "text/plain": [
              "0.6466480446927374"
            ]
          },
          "execution_count": 83,
          "metadata": {},
          "output_type": "execute_result"
        }
      ],
      "source": [
        "from sklearn.neighbors import KNeighborsClassifier\n",
        "neigh = KNeighborsClassifier(n_neighbors=5)\n",
        "neigh.fit(X_train, y_train)\n",
        "neigh.score(X_test,y_test)"
      ]
    },
    {
      "cell_type": "code",
      "execution_count": 84,
      "metadata": {
        "colab": {
          "base_uri": "https://localhost:8080/"
        },
        "id": "Nbflh4Bk2N2w",
        "outputId": "4e1e1d4e-3715-44b6-98de-e2e19cc76d2d"
      },
      "outputs": [
        {
          "data": {
            "text/plain": [
              "0.515013966480447"
            ]
          },
          "execution_count": 84,
          "metadata": {},
          "output_type": "execute_result"
        }
      ],
      "source": [
        "from sklearn.ensemble import RandomForestClassifier\n",
        "clf = RandomForestClassifier(max_depth=20, random_state=42,n_estimators=500)\n",
        "clf.fit(X_train, y_train)\n",
        "clf.score(X_test,y_test)"
      ]
    },
    {
      "cell_type": "code",
      "execution_count": 85,
      "metadata": {
        "colab": {
          "base_uri": "https://localhost:8080/"
        },
        "id": "C1gLWn262RGL",
        "outputId": "97f3140f-ac44-434f-8a72-3d681642088b"
      },
      "outputs": [
        {
          "data": {
            "text/plain": [
              "0.42178770949720673"
            ]
          },
          "execution_count": 85,
          "metadata": {},
          "output_type": "execute_result"
        }
      ],
      "source": [
        "from sklearn.ensemble import RandomForestClassifier\n",
        "clf = RandomForestClassifier(max_depth=10, random_state=42)\n",
        "clf.fit(X_train, y_train)\n",
        "clf.score(X_test,y_test)"
      ]
    },
    {
      "attachments": {},
      "cell_type": "markdown",
      "metadata": {},
      "source": [
        "### Without PCA"
      ]
    },
    {
      "cell_type": "code",
      "execution_count": 86,
      "metadata": {
        "id": "jZBEb0XQrJ-x"
      },
      "outputs": [],
      "source": [
        "import pickle\n",
        "  \n",
        "# Open the file in binary mode\n",
        "with open('/content/drive/MyDrive/X.pkl', 'rb') as file:\n",
        "    # Call load method to deserialze\n",
        "    X = pickle.load(file)\n",
        "with open('/content/drive/MyDrive/y.pkl', 'rb') as file:\n",
        "    # Call load method to deserialze\n",
        "    y = pickle.load(file)"
      ]
    },
    {
      "cell_type": "code",
      "execution_count": 87,
      "metadata": {
        "colab": {
          "base_uri": "https://localhost:8080/"
        },
        "id": "6Mct3xMVrK1V",
        "outputId": "9dadf1ab-ac87-4b38-ca83-254857f2d428"
      },
      "outputs": [
        {
          "data": {
            "text/plain": [
              "(5813, 9216)"
            ]
          },
          "execution_count": 87,
          "metadata": {},
          "output_type": "execute_result"
        }
      ],
      "source": [
        "from sklearn.model_selection import train_test_split\n",
        "X_train, X_test, y_train, y_test = train_test_split(X, y, test_size=0.33, random_state=42)\n",
        "X_train.shape"
      ]
    },
    {
      "cell_type": "code",
      "execution_count": 88,
      "metadata": {
        "colab": {
          "base_uri": "https://localhost:8080/"
        },
        "id": "yrRPx6yFrNUY",
        "outputId": "f40699c0-167d-4c61-9c0d-3e273d237a52"
      },
      "outputs": [
        {
          "data": {
            "text/plain": [
              "0.9221368715083799"
            ]
          },
          "execution_count": 88,
          "metadata": {},
          "output_type": "execute_result"
        }
      ],
      "source": [
        "from sklearn.linear_model import LogisticRegression\n",
        "clf = LogisticRegression(max_iter=100000).fit(X_train, y_train)\n",
        "y_pred = clf.predict(X_test)\n",
        "clf.score(X_test,y_test)"
      ]
    },
    {
      "cell_type": "code",
      "execution_count": 89,
      "metadata": {
        "colab": {
          "base_uri": "https://localhost:8080/"
        },
        "id": "Ib4jt9G6rRsh",
        "outputId": "9311cd9c-0ca0-41f6-8f2a-fc6c974074b3"
      },
      "outputs": [
        {
          "data": {
            "text/plain": [
              "0.8879189944134078"
            ]
          },
          "execution_count": 89,
          "metadata": {},
          "output_type": "execute_result"
        }
      ],
      "source": [
        "from sklearn.pipeline import make_pipeline\n",
        "from sklearn.svm import SVC\n",
        "from sklearn.preprocessing import StandardScaler\n",
        "clf = make_pipeline(StandardScaler(), SVC(gamma='auto',kernel='linear'))\n",
        "clf.fit(X_train, y_train)\n",
        "clf.score(X_test,y_test)"
      ]
    },
    {
      "cell_type": "code",
      "execution_count": 90,
      "metadata": {
        "colab": {
          "base_uri": "https://localhost:8080/"
        },
        "id": "QDDvreXPrWll",
        "outputId": "0ffbb360-960c-47f9-9788-97f8d4563a98"
      },
      "outputs": [
        {
          "data": {
            "text/plain": [
              "0.8348463687150838"
            ]
          },
          "execution_count": 90,
          "metadata": {},
          "output_type": "execute_result"
        }
      ],
      "source": [
        "from sklearn.pipeline import make_pipeline\n",
        "from sklearn.svm import SVC\n",
        "from sklearn.preprocessing import StandardScaler\n",
        "clf = make_pipeline(StandardScaler(), SVC(gamma='auto',kernel='rbf'))\n",
        "clf.fit(X_train, y_train)\n",
        "clf.score(X_test,y_test)"
      ]
    },
    {
      "cell_type": "code",
      "execution_count": 91,
      "metadata": {
        "colab": {
          "base_uri": "https://localhost:8080/"
        },
        "id": "olG47IPyrZVY",
        "outputId": "af3b60ed-680e-47cc-c86d-34d5ed1dce0e"
      },
      "outputs": [
        {
          "data": {
            "text/plain": [
              "0.630586592178771"
            ]
          },
          "execution_count": 91,
          "metadata": {},
          "output_type": "execute_result"
        }
      ],
      "source": [
        "from sklearn.neighbors import KNeighborsClassifier\n",
        "neigh = KNeighborsClassifier(n_neighbors=5)\n",
        "neigh.fit(X_train, y_train)\n",
        "neigh.score(X_test,y_test)"
      ]
    },
    {
      "cell_type": "code",
      "execution_count": 92,
      "metadata": {
        "colab": {
          "base_uri": "https://localhost:8080/"
        },
        "id": "jfumC79zraIy",
        "outputId": "33430872-3057-4a66-b16c-7254b1bd9e5b"
      },
      "outputs": [
        {
          "data": {
            "text/plain": [
              "0.6801675977653632"
            ]
          },
          "execution_count": 92,
          "metadata": {},
          "output_type": "execute_result"
        }
      ],
      "source": [
        "from sklearn.ensemble import RandomForestClassifier\n",
        "clf = RandomForestClassifier(max_depth=20, random_state=42,n_estimators=500)\n",
        "clf.fit(X_train, y_train)\n",
        "clf.score(X_test,y_test)"
      ]
    },
    {
      "cell_type": "code",
      "execution_count": 93,
      "metadata": {
        "colab": {
          "base_uri": "https://localhost:8080/"
        },
        "id": "gw9mqDd9rcMH",
        "outputId": "8bd7476e-11ce-4455-9b2a-b190dcaeca1a"
      },
      "outputs": [
        {
          "data": {
            "text/plain": [
              "0.5108240223463687"
            ]
          },
          "execution_count": 93,
          "metadata": {},
          "output_type": "execute_result"
        }
      ],
      "source": [
        "from sklearn.ensemble import RandomForestClassifier\n",
        "clf = RandomForestClassifier(max_depth=10, random_state=42)\n",
        "clf.fit(X_train, y_train)\n",
        "clf.score(X_test,y_test)"
      ]
    },
    {
      "cell_type": "markdown",
      "metadata": {
        "id": "0sIyESJl62Qy"
      },
      "source": [
        "## Extract Features for Bikes vs Horses Dataset"
      ]
    },
    {
      "cell_type": "code",
      "execution_count": 94,
      "metadata": {
        "id": "vvyiUXCf71sR"
      },
      "outputs": [],
      "source": [
        "from imutils import paths\n",
        "import os\n",
        "import cv2\n",
        "import numpy as np\n",
        "import pandas as pd\n",
        "import torch"
      ]
    },
    {
      "cell_type": "code",
      "execution_count": 95,
      "metadata": {
        "colab": {
          "base_uri": "https://localhost:8080/"
        },
        "id": "K_iZK-aB681A",
        "outputId": "e8ecc945-d133-46d4-90d4-5f57d62fc6e6"
      },
      "outputs": [
        {
          "name": "stdout",
          "output_type": "stream",
          "text": [
            "Archive:  /content/drive/MyDrive/Assignment2_BikeHorses.zip\n",
            "replace Assignment2_BikeHorses/Bikes/0042.jpg? [y]es, [n]o, [A]ll, [N]one, [r]ename: N\n"
          ]
        }
      ],
      "source": [
        "!unzip '/content/drive/MyDrive/Assignment2_BikeHorses.zip'"
      ]
    },
    {
      "cell_type": "code",
      "execution_count": 96,
      "metadata": {
        "id": "Ypv2P3aC8-4E"
      },
      "outputs": [],
      "source": [
        "images = []\n",
        "labels = []"
      ]
    },
    {
      "cell_type": "code",
      "execution_count": 97,
      "metadata": {
        "id": "ySf746Sf7v0c"
      },
      "outputs": [],
      "source": [
        "image_paths = list(paths.list_images('./Assignment2_BikeHorses/Horses'))"
      ]
    },
    {
      "cell_type": "code",
      "execution_count": 98,
      "metadata": {
        "id": "SKJLuqdj8C5U"
      },
      "outputs": [],
      "source": [
        "for img_path in image_paths:\n",
        "    label = 'horse'\n",
        "    img = cv2.imread(img_path)\n",
        "    img = cv2.cvtColor(img, cv2.COLOR_BGR2RGB)\n",
        "    images.append(img)\n",
        "    labels.append(label)"
      ]
    },
    {
      "cell_type": "code",
      "execution_count": 99,
      "metadata": {
        "id": "W8tMlG8e9VaP"
      },
      "outputs": [],
      "source": [
        "image_paths = list(paths.list_images('./Assignment2_BikeHorses/Bikes'))"
      ]
    },
    {
      "cell_type": "code",
      "execution_count": 100,
      "metadata": {
        "id": "8l8LfJ7S9WcT"
      },
      "outputs": [],
      "source": [
        "for img_path in image_paths:\n",
        "    label = 'bike'\n",
        "    img = cv2.imread(img_path)\n",
        "    img = cv2.cvtColor(img, cv2.COLOR_BGR2RGB)\n",
        "    images.append(img)\n",
        "    labels.append(label)"
      ]
    },
    {
      "cell_type": "code",
      "execution_count": 101,
      "metadata": {
        "id": "6qCE-fVt9pW4"
      },
      "outputs": [],
      "source": [
        "transform = transforms.Compose([\n",
        "    transforms.ToPILImage(),\n",
        "    transforms.Resize((224, 224)),\n",
        "    transforms.ToTensor(),\n",
        "    transforms.Normalize(mean = [0.485,0.456,0.406], std=[0.229,0.224,0.225]),\n",
        "])"
      ]
    },
    {
      "cell_type": "code",
      "execution_count": 102,
      "metadata": {
        "id": "05Vw1Ucc9rdR"
      },
      "outputs": [],
      "source": [
        "features_array = []\n",
        "\n",
        "for i in range(len(images)):\n",
        "    img = images[i]\n",
        "    img = transform(img)\n",
        "    img = img.reshape(1, 3, 224, 224)\n",
        "    img = img.to(device)\n",
        "    with torch.no_grad():\n",
        "        img_features = feature_extractor(img)\n",
        "    img_features = img_features.cpu().detach().numpy().reshape(-1)\n",
        "    features_array.append(img_features)"
      ]
    },
    {
      "cell_type": "code",
      "execution_count": 103,
      "metadata": {
        "colab": {
          "base_uri": "https://localhost:8080/"
        },
        "id": "oohDEXHH92Ko",
        "outputId": "9260de4c-e959-49fc-bf99-2333e496da3c"
      },
      "outputs": [
        {
          "data": {
            "text/plain": [
              "(179, 25088)"
            ]
          },
          "execution_count": 103,
          "metadata": {},
          "output_type": "execute_result"
        }
      ],
      "source": [
        "np.array(features_array).shape"
      ]
    },
    {
      "cell_type": "code",
      "execution_count": 104,
      "metadata": {
        "id": "e4D-wMLW-GHb"
      },
      "outputs": [],
      "source": [
        "X = np.array(features_array)\n",
        "y = np.array(labels)"
      ]
    },
    {
      "cell_type": "code",
      "execution_count": 105,
      "metadata": {
        "id": "EyL6yrz5-IMz"
      },
      "outputs": [],
      "source": [
        "df = pd.DataFrame(X)\n",
        "df['label'] = y"
      ]
    },
    {
      "cell_type": "code",
      "execution_count": 106,
      "metadata": {
        "id": "5jbD6oK8mPY4"
      },
      "outputs": [],
      "source": [
        "X=df.drop(\"label\",axis=1)\n",
        "y=df[\"label\"]\n",
        "import pickle\n",
        "# Open a file and use dump()\n",
        "with open('X_bikevshorse.pkl', 'wb') as file:\n",
        "    pickle.dump(X, file)\n",
        "    \n",
        "with open('y_bikevshorse.pkl', 'wb') as file:\n",
        "    pickle.dump(y, file)"
      ]
    },
    {
      "cell_type": "code",
      "execution_count": 107,
      "metadata": {
        "id": "xgZfZQRWmRIs"
      },
      "outputs": [],
      "source": [
        "import pickle\n",
        "  \n",
        "# Open the file in binary mode\n",
        "with open('X_bikevshorse.pkl', 'rb') as file:\n",
        "    # Call load method to deserialze\n",
        "    X = pickle.load(file)\n",
        "with open('y_bikevshorse.pkl', 'rb') as file:\n",
        "    # Call load method to deserialze\n",
        "    y = pickle.load(file)"
      ]
    },
    {
      "cell_type": "markdown",
      "metadata": {
        "id": "kmuKASukArug"
      },
      "source": [
        "## Model"
      ]
    },
    {
      "cell_type": "code",
      "execution_count": 108,
      "metadata": {
        "colab": {
          "base_uri": "https://localhost:8080/",
          "height": 487
        },
        "id": "ESDaV28S-IM0",
        "outputId": "f697996a-0902-4c0e-ec11-daf8bb3ddfbc"
      },
      "outputs": [
        {
          "data": {
            "text/html": [
              "\n",
              "  <div id=\"df-b9a53c18-ff0e-4340-bc9a-34212235ef7f\">\n",
              "    <div class=\"colab-df-container\">\n",
              "      <div>\n",
              "<style scoped>\n",
              "    .dataframe tbody tr th:only-of-type {\n",
              "        vertical-align: middle;\n",
              "    }\n",
              "\n",
              "    .dataframe tbody tr th {\n",
              "        vertical-align: top;\n",
              "    }\n",
              "\n",
              "    .dataframe thead th {\n",
              "        text-align: right;\n",
              "    }\n",
              "</style>\n",
              "<table border=\"1\" class=\"dataframe\">\n",
              "  <thead>\n",
              "    <tr style=\"text-align: right;\">\n",
              "      <th></th>\n",
              "      <th>0</th>\n",
              "      <th>1</th>\n",
              "      <th>2</th>\n",
              "      <th>3</th>\n",
              "      <th>4</th>\n",
              "      <th>5</th>\n",
              "      <th>6</th>\n",
              "      <th>7</th>\n",
              "      <th>8</th>\n",
              "      <th>9</th>\n",
              "      <th>...</th>\n",
              "      <th>25079</th>\n",
              "      <th>25080</th>\n",
              "      <th>25081</th>\n",
              "      <th>25082</th>\n",
              "      <th>25083</th>\n",
              "      <th>25084</th>\n",
              "      <th>25085</th>\n",
              "      <th>25086</th>\n",
              "      <th>25087</th>\n",
              "      <th>label</th>\n",
              "    </tr>\n",
              "  </thead>\n",
              "  <tbody>\n",
              "    <tr>\n",
              "      <th>0</th>\n",
              "      <td>0.000000</td>\n",
              "      <td>0.000000</td>\n",
              "      <td>0.0</td>\n",
              "      <td>0.0</td>\n",
              "      <td>0.0</td>\n",
              "      <td>0.0</td>\n",
              "      <td>0.0</td>\n",
              "      <td>0.0</td>\n",
              "      <td>0.000000</td>\n",
              "      <td>0.000000</td>\n",
              "      <td>...</td>\n",
              "      <td>0.000000</td>\n",
              "      <td>0.000000</td>\n",
              "      <td>0.000000</td>\n",
              "      <td>0.025331</td>\n",
              "      <td>2.444167</td>\n",
              "      <td>3.748494</td>\n",
              "      <td>1.629134</td>\n",
              "      <td>2.421952</td>\n",
              "      <td>1.067587</td>\n",
              "      <td>horse</td>\n",
              "    </tr>\n",
              "    <tr>\n",
              "      <th>1</th>\n",
              "      <td>0.000000</td>\n",
              "      <td>0.000000</td>\n",
              "      <td>0.0</td>\n",
              "      <td>0.0</td>\n",
              "      <td>0.0</td>\n",
              "      <td>0.0</td>\n",
              "      <td>0.0</td>\n",
              "      <td>0.0</td>\n",
              "      <td>0.000000</td>\n",
              "      <td>0.000000</td>\n",
              "      <td>...</td>\n",
              "      <td>0.000000</td>\n",
              "      <td>0.000000</td>\n",
              "      <td>0.000000</td>\n",
              "      <td>0.000000</td>\n",
              "      <td>0.000000</td>\n",
              "      <td>0.000000</td>\n",
              "      <td>0.000000</td>\n",
              "      <td>0.000000</td>\n",
              "      <td>0.000000</td>\n",
              "      <td>horse</td>\n",
              "    </tr>\n",
              "    <tr>\n",
              "      <th>2</th>\n",
              "      <td>0.000000</td>\n",
              "      <td>0.000000</td>\n",
              "      <td>0.0</td>\n",
              "      <td>0.0</td>\n",
              "      <td>0.0</td>\n",
              "      <td>0.0</td>\n",
              "      <td>0.0</td>\n",
              "      <td>0.0</td>\n",
              "      <td>0.000000</td>\n",
              "      <td>0.000000</td>\n",
              "      <td>...</td>\n",
              "      <td>0.000000</td>\n",
              "      <td>0.000000</td>\n",
              "      <td>0.000000</td>\n",
              "      <td>0.000000</td>\n",
              "      <td>0.000000</td>\n",
              "      <td>0.000000</td>\n",
              "      <td>0.000000</td>\n",
              "      <td>0.000000</td>\n",
              "      <td>0.000000</td>\n",
              "      <td>horse</td>\n",
              "    </tr>\n",
              "    <tr>\n",
              "      <th>3</th>\n",
              "      <td>0.000000</td>\n",
              "      <td>0.000000</td>\n",
              "      <td>0.0</td>\n",
              "      <td>0.0</td>\n",
              "      <td>0.0</td>\n",
              "      <td>0.0</td>\n",
              "      <td>0.0</td>\n",
              "      <td>0.0</td>\n",
              "      <td>0.000000</td>\n",
              "      <td>0.000000</td>\n",
              "      <td>...</td>\n",
              "      <td>0.000000</td>\n",
              "      <td>0.000000</td>\n",
              "      <td>0.000000</td>\n",
              "      <td>0.000000</td>\n",
              "      <td>0.000000</td>\n",
              "      <td>0.000000</td>\n",
              "      <td>0.000000</td>\n",
              "      <td>0.000000</td>\n",
              "      <td>0.000000</td>\n",
              "      <td>horse</td>\n",
              "    </tr>\n",
              "    <tr>\n",
              "      <th>4</th>\n",
              "      <td>0.000000</td>\n",
              "      <td>0.000000</td>\n",
              "      <td>0.0</td>\n",
              "      <td>0.0</td>\n",
              "      <td>0.0</td>\n",
              "      <td>0.0</td>\n",
              "      <td>0.0</td>\n",
              "      <td>0.0</td>\n",
              "      <td>0.000000</td>\n",
              "      <td>0.000000</td>\n",
              "      <td>...</td>\n",
              "      <td>1.741845</td>\n",
              "      <td>0.117009</td>\n",
              "      <td>0.000000</td>\n",
              "      <td>0.000000</td>\n",
              "      <td>0.000000</td>\n",
              "      <td>0.302195</td>\n",
              "      <td>0.783861</td>\n",
              "      <td>0.000000</td>\n",
              "      <td>0.000000</td>\n",
              "      <td>horse</td>\n",
              "    </tr>\n",
              "    <tr>\n",
              "      <th>...</th>\n",
              "      <td>...</td>\n",
              "      <td>...</td>\n",
              "      <td>...</td>\n",
              "      <td>...</td>\n",
              "      <td>...</td>\n",
              "      <td>...</td>\n",
              "      <td>...</td>\n",
              "      <td>...</td>\n",
              "      <td>...</td>\n",
              "      <td>...</td>\n",
              "      <td>...</td>\n",
              "      <td>...</td>\n",
              "      <td>...</td>\n",
              "      <td>...</td>\n",
              "      <td>...</td>\n",
              "      <td>...</td>\n",
              "      <td>...</td>\n",
              "      <td>...</td>\n",
              "      <td>...</td>\n",
              "      <td>...</td>\n",
              "      <td>...</td>\n",
              "    </tr>\n",
              "    <tr>\n",
              "      <th>174</th>\n",
              "      <td>0.000000</td>\n",
              "      <td>0.000000</td>\n",
              "      <td>0.0</td>\n",
              "      <td>0.0</td>\n",
              "      <td>0.0</td>\n",
              "      <td>0.0</td>\n",
              "      <td>0.0</td>\n",
              "      <td>0.0</td>\n",
              "      <td>0.000000</td>\n",
              "      <td>0.000000</td>\n",
              "      <td>...</td>\n",
              "      <td>0.000000</td>\n",
              "      <td>0.000000</td>\n",
              "      <td>0.985562</td>\n",
              "      <td>0.000000</td>\n",
              "      <td>0.000000</td>\n",
              "      <td>0.037411</td>\n",
              "      <td>0.125173</td>\n",
              "      <td>0.000000</td>\n",
              "      <td>0.000000</td>\n",
              "      <td>bike</td>\n",
              "    </tr>\n",
              "    <tr>\n",
              "      <th>175</th>\n",
              "      <td>0.000000</td>\n",
              "      <td>0.000000</td>\n",
              "      <td>0.0</td>\n",
              "      <td>0.0</td>\n",
              "      <td>0.0</td>\n",
              "      <td>0.0</td>\n",
              "      <td>0.0</td>\n",
              "      <td>0.0</td>\n",
              "      <td>0.000000</td>\n",
              "      <td>0.000000</td>\n",
              "      <td>...</td>\n",
              "      <td>0.000000</td>\n",
              "      <td>0.000000</td>\n",
              "      <td>0.000000</td>\n",
              "      <td>0.000000</td>\n",
              "      <td>0.000000</td>\n",
              "      <td>0.000000</td>\n",
              "      <td>0.000000</td>\n",
              "      <td>0.000000</td>\n",
              "      <td>0.000000</td>\n",
              "      <td>bike</td>\n",
              "    </tr>\n",
              "    <tr>\n",
              "      <th>176</th>\n",
              "      <td>0.143615</td>\n",
              "      <td>0.157072</td>\n",
              "      <td>0.0</td>\n",
              "      <td>0.0</td>\n",
              "      <td>0.0</td>\n",
              "      <td>0.0</td>\n",
              "      <td>0.0</td>\n",
              "      <td>0.0</td>\n",
              "      <td>0.732357</td>\n",
              "      <td>0.722169</td>\n",
              "      <td>...</td>\n",
              "      <td>0.000000</td>\n",
              "      <td>0.000000</td>\n",
              "      <td>0.000000</td>\n",
              "      <td>0.000000</td>\n",
              "      <td>0.000000</td>\n",
              "      <td>0.000000</td>\n",
              "      <td>0.000000</td>\n",
              "      <td>0.000000</td>\n",
              "      <td>0.000000</td>\n",
              "      <td>bike</td>\n",
              "    </tr>\n",
              "    <tr>\n",
              "      <th>177</th>\n",
              "      <td>0.000000</td>\n",
              "      <td>0.000000</td>\n",
              "      <td>0.0</td>\n",
              "      <td>0.0</td>\n",
              "      <td>0.0</td>\n",
              "      <td>0.0</td>\n",
              "      <td>0.0</td>\n",
              "      <td>0.0</td>\n",
              "      <td>0.000000</td>\n",
              "      <td>0.000000</td>\n",
              "      <td>...</td>\n",
              "      <td>2.219155</td>\n",
              "      <td>0.000000</td>\n",
              "      <td>0.000000</td>\n",
              "      <td>0.000000</td>\n",
              "      <td>0.889630</td>\n",
              "      <td>0.781400</td>\n",
              "      <td>0.340269</td>\n",
              "      <td>0.000000</td>\n",
              "      <td>0.000000</td>\n",
              "      <td>bike</td>\n",
              "    </tr>\n",
              "    <tr>\n",
              "      <th>178</th>\n",
              "      <td>0.439486</td>\n",
              "      <td>0.000000</td>\n",
              "      <td>0.0</td>\n",
              "      <td>0.0</td>\n",
              "      <td>0.0</td>\n",
              "      <td>0.0</td>\n",
              "      <td>0.0</td>\n",
              "      <td>0.0</td>\n",
              "      <td>0.921680</td>\n",
              "      <td>0.407997</td>\n",
              "      <td>...</td>\n",
              "      <td>0.000000</td>\n",
              "      <td>0.000000</td>\n",
              "      <td>0.000000</td>\n",
              "      <td>0.000000</td>\n",
              "      <td>0.000000</td>\n",
              "      <td>0.000000</td>\n",
              "      <td>0.000000</td>\n",
              "      <td>0.000000</td>\n",
              "      <td>0.000000</td>\n",
              "      <td>bike</td>\n",
              "    </tr>\n",
              "  </tbody>\n",
              "</table>\n",
              "<p>179 rows × 25089 columns</p>\n",
              "</div>\n",
              "      <button class=\"colab-df-convert\" onclick=\"convertToInteractive('df-b9a53c18-ff0e-4340-bc9a-34212235ef7f')\"\n",
              "              title=\"Convert this dataframe to an interactive table.\"\n",
              "              style=\"display:none;\">\n",
              "        \n",
              "  <svg xmlns=\"http://www.w3.org/2000/svg\" height=\"24px\"viewBox=\"0 0 24 24\"\n",
              "       width=\"24px\">\n",
              "    <path d=\"M0 0h24v24H0V0z\" fill=\"none\"/>\n",
              "    <path d=\"M18.56 5.44l.94 2.06.94-2.06 2.06-.94-2.06-.94-.94-2.06-.94 2.06-2.06.94zm-11 1L8.5 8.5l.94-2.06 2.06-.94-2.06-.94L8.5 2.5l-.94 2.06-2.06.94zm10 10l.94 2.06.94-2.06 2.06-.94-2.06-.94-.94-2.06-.94 2.06-2.06.94z\"/><path d=\"M17.41 7.96l-1.37-1.37c-.4-.4-.92-.59-1.43-.59-.52 0-1.04.2-1.43.59L10.3 9.45l-7.72 7.72c-.78.78-.78 2.05 0 2.83L4 21.41c.39.39.9.59 1.41.59.51 0 1.02-.2 1.41-.59l7.78-7.78 2.81-2.81c.8-.78.8-2.07 0-2.86zM5.41 20L4 18.59l7.72-7.72 1.47 1.35L5.41 20z\"/>\n",
              "  </svg>\n",
              "      </button>\n",
              "      \n",
              "  <style>\n",
              "    .colab-df-container {\n",
              "      display:flex;\n",
              "      flex-wrap:wrap;\n",
              "      gap: 12px;\n",
              "    }\n",
              "\n",
              "    .colab-df-convert {\n",
              "      background-color: #E8F0FE;\n",
              "      border: none;\n",
              "      border-radius: 50%;\n",
              "      cursor: pointer;\n",
              "      display: none;\n",
              "      fill: #1967D2;\n",
              "      height: 32px;\n",
              "      padding: 0 0 0 0;\n",
              "      width: 32px;\n",
              "    }\n",
              "\n",
              "    .colab-df-convert:hover {\n",
              "      background-color: #E2EBFA;\n",
              "      box-shadow: 0px 1px 2px rgba(60, 64, 67, 0.3), 0px 1px 3px 1px rgba(60, 64, 67, 0.15);\n",
              "      fill: #174EA6;\n",
              "    }\n",
              "\n",
              "    [theme=dark] .colab-df-convert {\n",
              "      background-color: #3B4455;\n",
              "      fill: #D2E3FC;\n",
              "    }\n",
              "\n",
              "    [theme=dark] .colab-df-convert:hover {\n",
              "      background-color: #434B5C;\n",
              "      box-shadow: 0px 1px 3px 1px rgba(0, 0, 0, 0.15);\n",
              "      filter: drop-shadow(0px 1px 2px rgba(0, 0, 0, 0.3));\n",
              "      fill: #FFFFFF;\n",
              "    }\n",
              "  </style>\n",
              "\n",
              "      <script>\n",
              "        const buttonEl =\n",
              "          document.querySelector('#df-b9a53c18-ff0e-4340-bc9a-34212235ef7f button.colab-df-convert');\n",
              "        buttonEl.style.display =\n",
              "          google.colab.kernel.accessAllowed ? 'block' : 'none';\n",
              "\n",
              "        async function convertToInteractive(key) {\n",
              "          const element = document.querySelector('#df-b9a53c18-ff0e-4340-bc9a-34212235ef7f');\n",
              "          const dataTable =\n",
              "            await google.colab.kernel.invokeFunction('convertToInteractive',\n",
              "                                                     [key], {});\n",
              "          if (!dataTable) return;\n",
              "\n",
              "          const docLinkHtml = 'Like what you see? Visit the ' +\n",
              "            '<a target=\"_blank\" href=https://colab.research.google.com/notebooks/data_table.ipynb>data table notebook</a>'\n",
              "            + ' to learn more about interactive tables.';\n",
              "          element.innerHTML = '';\n",
              "          dataTable['output_type'] = 'display_data';\n",
              "          await google.colab.output.renderOutput(dataTable, element);\n",
              "          const docLink = document.createElement('div');\n",
              "          docLink.innerHTML = docLinkHtml;\n",
              "          element.appendChild(docLink);\n",
              "        }\n",
              "      </script>\n",
              "    </div>\n",
              "  </div>\n",
              "  "
            ],
            "text/plain": [
              "            0         1    2    3    4    5    6    7         8         9  \\\n",
              "0    0.000000  0.000000  0.0  0.0  0.0  0.0  0.0  0.0  0.000000  0.000000   \n",
              "1    0.000000  0.000000  0.0  0.0  0.0  0.0  0.0  0.0  0.000000  0.000000   \n",
              "2    0.000000  0.000000  0.0  0.0  0.0  0.0  0.0  0.0  0.000000  0.000000   \n",
              "3    0.000000  0.000000  0.0  0.0  0.0  0.0  0.0  0.0  0.000000  0.000000   \n",
              "4    0.000000  0.000000  0.0  0.0  0.0  0.0  0.0  0.0  0.000000  0.000000   \n",
              "..        ...       ...  ...  ...  ...  ...  ...  ...       ...       ...   \n",
              "174  0.000000  0.000000  0.0  0.0  0.0  0.0  0.0  0.0  0.000000  0.000000   \n",
              "175  0.000000  0.000000  0.0  0.0  0.0  0.0  0.0  0.0  0.000000  0.000000   \n",
              "176  0.143615  0.157072  0.0  0.0  0.0  0.0  0.0  0.0  0.732357  0.722169   \n",
              "177  0.000000  0.000000  0.0  0.0  0.0  0.0  0.0  0.0  0.000000  0.000000   \n",
              "178  0.439486  0.000000  0.0  0.0  0.0  0.0  0.0  0.0  0.921680  0.407997   \n",
              "\n",
              "     ...     25079     25080     25081     25082     25083     25084  \\\n",
              "0    ...  0.000000  0.000000  0.000000  0.025331  2.444167  3.748494   \n",
              "1    ...  0.000000  0.000000  0.000000  0.000000  0.000000  0.000000   \n",
              "2    ...  0.000000  0.000000  0.000000  0.000000  0.000000  0.000000   \n",
              "3    ...  0.000000  0.000000  0.000000  0.000000  0.000000  0.000000   \n",
              "4    ...  1.741845  0.117009  0.000000  0.000000  0.000000  0.302195   \n",
              "..   ...       ...       ...       ...       ...       ...       ...   \n",
              "174  ...  0.000000  0.000000  0.985562  0.000000  0.000000  0.037411   \n",
              "175  ...  0.000000  0.000000  0.000000  0.000000  0.000000  0.000000   \n",
              "176  ...  0.000000  0.000000  0.000000  0.000000  0.000000  0.000000   \n",
              "177  ...  2.219155  0.000000  0.000000  0.000000  0.889630  0.781400   \n",
              "178  ...  0.000000  0.000000  0.000000  0.000000  0.000000  0.000000   \n",
              "\n",
              "        25085     25086     25087  label  \n",
              "0    1.629134  2.421952  1.067587  horse  \n",
              "1    0.000000  0.000000  0.000000  horse  \n",
              "2    0.000000  0.000000  0.000000  horse  \n",
              "3    0.000000  0.000000  0.000000  horse  \n",
              "4    0.783861  0.000000  0.000000  horse  \n",
              "..        ...       ...       ...    ...  \n",
              "174  0.125173  0.000000  0.000000   bike  \n",
              "175  0.000000  0.000000  0.000000   bike  \n",
              "176  0.000000  0.000000  0.000000   bike  \n",
              "177  0.340269  0.000000  0.000000   bike  \n",
              "178  0.000000  0.000000  0.000000   bike  \n",
              "\n",
              "[179 rows x 25089 columns]"
            ]
          },
          "execution_count": 108,
          "metadata": {},
          "output_type": "execute_result"
        }
      ],
      "source": [
        "df"
      ]
    },
    {
      "cell_type": "code",
      "execution_count": 109,
      "metadata": {
        "id": "vboNJ7UgAuG7"
      },
      "outputs": [],
      "source": [
        "from sklearn.preprocessing import StandardScaler\n",
        "from sklearn.decomposition import PCA\n",
        "from sklearn.preprocessing import LabelEncoder\n",
        "from sklearn.model_selection import train_test_split\n",
        "from sklearn.linear_model import LogisticRegression\n",
        "from sklearn.metrics import accuracy_score\n",
        "from sklearn.metrics import f1_score"
      ]
    },
    {
      "cell_type": "code",
      "execution_count": 110,
      "metadata": {
        "id": "0A-HI8o-BGQH"
      },
      "outputs": [],
      "source": [
        "scaler = StandardScaler()\n",
        "X_scaled = scaler.fit_transform(X)\n",
        "\n",
        "pca = PCA(n_components=150)\n",
        "X_pca = pca.fit_transform(X_scaled)"
      ]
    },
    {
      "cell_type": "code",
      "execution_count": 111,
      "metadata": {
        "colab": {
          "base_uri": "https://localhost:8080/"
        },
        "id": "hwaHGUqzBqah",
        "outputId": "b5d1c6d4-4d4a-4889-d7b4-5d04a2baede2"
      },
      "outputs": [
        {
          "data": {
            "text/plain": [
              "0.9630165"
            ]
          },
          "execution_count": 111,
          "metadata": {},
          "output_type": "execute_result"
        }
      ],
      "source": [
        "pca.explained_variance_ratio_.sum()"
      ]
    },
    {
      "cell_type": "code",
      "execution_count": 112,
      "metadata": {
        "id": "P6hfJdoKCKcE"
      },
      "outputs": [],
      "source": [
        "df_pca = pd.DataFrame(X_pca)\n",
        "df_pca['label'] = labels"
      ]
    },
    {
      "cell_type": "code",
      "execution_count": 113,
      "metadata": {
        "id": "Vu1RLwiRDk3s"
      },
      "outputs": [],
      "source": [
        "label_encoder = LabelEncoder()\n",
        "df_pca['label']= label_encoder.fit_transform(df_pca['label'])"
      ]
    },
    {
      "cell_type": "code",
      "execution_count": 114,
      "metadata": {
        "colab": {
          "base_uri": "https://localhost:8080/",
          "height": 487
        },
        "id": "HaOEgIzVKlTw",
        "outputId": "eb4a879e-d4e5-405b-c57f-9521aa3aa837"
      },
      "outputs": [
        {
          "data": {
            "text/html": [
              "\n",
              "  <div id=\"df-b58fc43d-f14f-44d2-bb95-cbeefe314da3\">\n",
              "    <div class=\"colab-df-container\">\n",
              "      <div>\n",
              "<style scoped>\n",
              "    .dataframe tbody tr th:only-of-type {\n",
              "        vertical-align: middle;\n",
              "    }\n",
              "\n",
              "    .dataframe tbody tr th {\n",
              "        vertical-align: top;\n",
              "    }\n",
              "\n",
              "    .dataframe thead th {\n",
              "        text-align: right;\n",
              "    }\n",
              "</style>\n",
              "<table border=\"1\" class=\"dataframe\">\n",
              "  <thead>\n",
              "    <tr style=\"text-align: right;\">\n",
              "      <th></th>\n",
              "      <th>0</th>\n",
              "      <th>1</th>\n",
              "      <th>2</th>\n",
              "      <th>3</th>\n",
              "      <th>4</th>\n",
              "      <th>5</th>\n",
              "      <th>6</th>\n",
              "      <th>7</th>\n",
              "      <th>8</th>\n",
              "      <th>9</th>\n",
              "      <th>...</th>\n",
              "      <th>141</th>\n",
              "      <th>142</th>\n",
              "      <th>143</th>\n",
              "      <th>144</th>\n",
              "      <th>145</th>\n",
              "      <th>146</th>\n",
              "      <th>147</th>\n",
              "      <th>148</th>\n",
              "      <th>149</th>\n",
              "      <th>label</th>\n",
              "    </tr>\n",
              "  </thead>\n",
              "  <tbody>\n",
              "    <tr>\n",
              "      <th>0</th>\n",
              "      <td>-24.052631</td>\n",
              "      <td>-7.308313</td>\n",
              "      <td>6.023119</td>\n",
              "      <td>-11.855042</td>\n",
              "      <td>-4.026018</td>\n",
              "      <td>4.235047</td>\n",
              "      <td>4.629198</td>\n",
              "      <td>7.450704</td>\n",
              "      <td>-1.193925</td>\n",
              "      <td>0.283594</td>\n",
              "      <td>...</td>\n",
              "      <td>0.730948</td>\n",
              "      <td>-5.368753</td>\n",
              "      <td>-0.941075</td>\n",
              "      <td>2.200697</td>\n",
              "      <td>-0.212551</td>\n",
              "      <td>-0.346409</td>\n",
              "      <td>0.633629</td>\n",
              "      <td>-0.794190</td>\n",
              "      <td>0.010791</td>\n",
              "      <td>1</td>\n",
              "    </tr>\n",
              "    <tr>\n",
              "      <th>1</th>\n",
              "      <td>-30.392269</td>\n",
              "      <td>-6.124090</td>\n",
              "      <td>-9.394124</td>\n",
              "      <td>-12.403003</td>\n",
              "      <td>-16.250395</td>\n",
              "      <td>-4.209332</td>\n",
              "      <td>18.123777</td>\n",
              "      <td>26.876623</td>\n",
              "      <td>-11.464371</td>\n",
              "      <td>-10.298728</td>\n",
              "      <td>...</td>\n",
              "      <td>-0.156988</td>\n",
              "      <td>-1.897434</td>\n",
              "      <td>-1.189050</td>\n",
              "      <td>1.407846</td>\n",
              "      <td>2.031697</td>\n",
              "      <td>-0.254302</td>\n",
              "      <td>0.629129</td>\n",
              "      <td>-0.621455</td>\n",
              "      <td>0.572916</td>\n",
              "      <td>1</td>\n",
              "    </tr>\n",
              "    <tr>\n",
              "      <th>2</th>\n",
              "      <td>-40.689720</td>\n",
              "      <td>-1.737145</td>\n",
              "      <td>-14.706333</td>\n",
              "      <td>-9.182796</td>\n",
              "      <td>-3.575155</td>\n",
              "      <td>1.591406</td>\n",
              "      <td>-6.303109</td>\n",
              "      <td>-19.871731</td>\n",
              "      <td>2.633568</td>\n",
              "      <td>-3.188074</td>\n",
              "      <td>...</td>\n",
              "      <td>-0.323761</td>\n",
              "      <td>4.527821</td>\n",
              "      <td>1.838418</td>\n",
              "      <td>0.082660</td>\n",
              "      <td>1.242775</td>\n",
              "      <td>0.107580</td>\n",
              "      <td>-1.339644</td>\n",
              "      <td>-0.756711</td>\n",
              "      <td>0.317032</td>\n",
              "      <td>1</td>\n",
              "    </tr>\n",
              "    <tr>\n",
              "      <th>3</th>\n",
              "      <td>-31.084015</td>\n",
              "      <td>5.900604</td>\n",
              "      <td>-10.848145</td>\n",
              "      <td>16.341608</td>\n",
              "      <td>0.453425</td>\n",
              "      <td>-4.673359</td>\n",
              "      <td>-14.576808</td>\n",
              "      <td>-24.761694</td>\n",
              "      <td>15.646574</td>\n",
              "      <td>-4.431576</td>\n",
              "      <td>...</td>\n",
              "      <td>0.933790</td>\n",
              "      <td>0.222904</td>\n",
              "      <td>-0.813004</td>\n",
              "      <td>0.348171</td>\n",
              "      <td>-0.116827</td>\n",
              "      <td>0.380993</td>\n",
              "      <td>0.276049</td>\n",
              "      <td>0.388913</td>\n",
              "      <td>0.884402</td>\n",
              "      <td>1</td>\n",
              "    </tr>\n",
              "    <tr>\n",
              "      <th>4</th>\n",
              "      <td>-31.860512</td>\n",
              "      <td>0.250140</td>\n",
              "      <td>-2.969397</td>\n",
              "      <td>-4.813212</td>\n",
              "      <td>5.201406</td>\n",
              "      <td>1.077875</td>\n",
              "      <td>-12.110016</td>\n",
              "      <td>-5.707363</td>\n",
              "      <td>6.771334</td>\n",
              "      <td>1.460532</td>\n",
              "      <td>...</td>\n",
              "      <td>0.369469</td>\n",
              "      <td>0.003981</td>\n",
              "      <td>0.029985</td>\n",
              "      <td>0.784361</td>\n",
              "      <td>-0.663807</td>\n",
              "      <td>0.093001</td>\n",
              "      <td>0.756636</td>\n",
              "      <td>-0.716571</td>\n",
              "      <td>-0.789307</td>\n",
              "      <td>1</td>\n",
              "    </tr>\n",
              "    <tr>\n",
              "      <th>...</th>\n",
              "      <td>...</td>\n",
              "      <td>...</td>\n",
              "      <td>...</td>\n",
              "      <td>...</td>\n",
              "      <td>...</td>\n",
              "      <td>...</td>\n",
              "      <td>...</td>\n",
              "      <td>...</td>\n",
              "      <td>...</td>\n",
              "      <td>...</td>\n",
              "      <td>...</td>\n",
              "      <td>...</td>\n",
              "      <td>...</td>\n",
              "      <td>...</td>\n",
              "      <td>...</td>\n",
              "      <td>...</td>\n",
              "      <td>...</td>\n",
              "      <td>...</td>\n",
              "      <td>...</td>\n",
              "      <td>...</td>\n",
              "      <td>...</td>\n",
              "    </tr>\n",
              "    <tr>\n",
              "      <th>174</th>\n",
              "      <td>41.868370</td>\n",
              "      <td>-42.808819</td>\n",
              "      <td>-0.630585</td>\n",
              "      <td>0.179925</td>\n",
              "      <td>3.031354</td>\n",
              "      <td>-21.701130</td>\n",
              "      <td>15.378249</td>\n",
              "      <td>-3.581931</td>\n",
              "      <td>-15.064744</td>\n",
              "      <td>-3.455476</td>\n",
              "      <td>...</td>\n",
              "      <td>-0.738121</td>\n",
              "      <td>-0.282960</td>\n",
              "      <td>3.519186</td>\n",
              "      <td>-14.052541</td>\n",
              "      <td>-15.554027</td>\n",
              "      <td>-5.585742</td>\n",
              "      <td>-11.844168</td>\n",
              "      <td>36.552036</td>\n",
              "      <td>47.203747</td>\n",
              "      <td>0</td>\n",
              "    </tr>\n",
              "    <tr>\n",
              "      <th>175</th>\n",
              "      <td>13.108624</td>\n",
              "      <td>22.567858</td>\n",
              "      <td>2.565637</td>\n",
              "      <td>74.422958</td>\n",
              "      <td>-15.835024</td>\n",
              "      <td>-22.406250</td>\n",
              "      <td>-36.394875</td>\n",
              "      <td>23.587275</td>\n",
              "      <td>18.361597</td>\n",
              "      <td>12.543007</td>\n",
              "      <td>...</td>\n",
              "      <td>-0.713579</td>\n",
              "      <td>0.061013</td>\n",
              "      <td>0.424928</td>\n",
              "      <td>0.165537</td>\n",
              "      <td>-0.562429</td>\n",
              "      <td>0.627574</td>\n",
              "      <td>-0.683178</td>\n",
              "      <td>-0.095810</td>\n",
              "      <td>-0.255984</td>\n",
              "      <td>0</td>\n",
              "    </tr>\n",
              "    <tr>\n",
              "      <th>176</th>\n",
              "      <td>31.351440</td>\n",
              "      <td>43.827309</td>\n",
              "      <td>-2.012079</td>\n",
              "      <td>-25.492165</td>\n",
              "      <td>-6.229031</td>\n",
              "      <td>12.796922</td>\n",
              "      <td>9.121084</td>\n",
              "      <td>6.124635</td>\n",
              "      <td>23.289898</td>\n",
              "      <td>9.651016</td>\n",
              "      <td>...</td>\n",
              "      <td>3.049202</td>\n",
              "      <td>-0.439162</td>\n",
              "      <td>0.308848</td>\n",
              "      <td>-3.777290</td>\n",
              "      <td>0.311121</td>\n",
              "      <td>4.705581</td>\n",
              "      <td>10.790948</td>\n",
              "      <td>3.763995</td>\n",
              "      <td>0.803503</td>\n",
              "      <td>0</td>\n",
              "    </tr>\n",
              "    <tr>\n",
              "      <th>177</th>\n",
              "      <td>40.928211</td>\n",
              "      <td>-36.149387</td>\n",
              "      <td>-2.567742</td>\n",
              "      <td>-8.745031</td>\n",
              "      <td>3.405827</td>\n",
              "      <td>-17.957893</td>\n",
              "      <td>0.476254</td>\n",
              "      <td>-4.096447</td>\n",
              "      <td>-2.585455</td>\n",
              "      <td>1.792291</td>\n",
              "      <td>...</td>\n",
              "      <td>-6.784842</td>\n",
              "      <td>3.111198</td>\n",
              "      <td>-10.127982</td>\n",
              "      <td>-9.292953</td>\n",
              "      <td>-1.851978</td>\n",
              "      <td>-0.280379</td>\n",
              "      <td>-0.150911</td>\n",
              "      <td>-0.874866</td>\n",
              "      <td>-2.494065</td>\n",
              "      <td>0</td>\n",
              "    </tr>\n",
              "    <tr>\n",
              "      <th>178</th>\n",
              "      <td>32.018661</td>\n",
              "      <td>43.685349</td>\n",
              "      <td>0.404890</td>\n",
              "      <td>-25.942375</td>\n",
              "      <td>-5.125420</td>\n",
              "      <td>15.921499</td>\n",
              "      <td>10.637761</td>\n",
              "      <td>6.878487</td>\n",
              "      <td>24.254574</td>\n",
              "      <td>9.888289</td>\n",
              "      <td>...</td>\n",
              "      <td>11.308086</td>\n",
              "      <td>9.001393</td>\n",
              "      <td>-22.732365</td>\n",
              "      <td>-3.028044</td>\n",
              "      <td>-7.389986</td>\n",
              "      <td>23.816704</td>\n",
              "      <td>-13.820813</td>\n",
              "      <td>-0.459040</td>\n",
              "      <td>3.731941</td>\n",
              "      <td>0</td>\n",
              "    </tr>\n",
              "  </tbody>\n",
              "</table>\n",
              "<p>179 rows × 151 columns</p>\n",
              "</div>\n",
              "      <button class=\"colab-df-convert\" onclick=\"convertToInteractive('df-b58fc43d-f14f-44d2-bb95-cbeefe314da3')\"\n",
              "              title=\"Convert this dataframe to an interactive table.\"\n",
              "              style=\"display:none;\">\n",
              "        \n",
              "  <svg xmlns=\"http://www.w3.org/2000/svg\" height=\"24px\"viewBox=\"0 0 24 24\"\n",
              "       width=\"24px\">\n",
              "    <path d=\"M0 0h24v24H0V0z\" fill=\"none\"/>\n",
              "    <path d=\"M18.56 5.44l.94 2.06.94-2.06 2.06-.94-2.06-.94-.94-2.06-.94 2.06-2.06.94zm-11 1L8.5 8.5l.94-2.06 2.06-.94-2.06-.94L8.5 2.5l-.94 2.06-2.06.94zm10 10l.94 2.06.94-2.06 2.06-.94-2.06-.94-.94-2.06-.94 2.06-2.06.94z\"/><path d=\"M17.41 7.96l-1.37-1.37c-.4-.4-.92-.59-1.43-.59-.52 0-1.04.2-1.43.59L10.3 9.45l-7.72 7.72c-.78.78-.78 2.05 0 2.83L4 21.41c.39.39.9.59 1.41.59.51 0 1.02-.2 1.41-.59l7.78-7.78 2.81-2.81c.8-.78.8-2.07 0-2.86zM5.41 20L4 18.59l7.72-7.72 1.47 1.35L5.41 20z\"/>\n",
              "  </svg>\n",
              "      </button>\n",
              "      \n",
              "  <style>\n",
              "    .colab-df-container {\n",
              "      display:flex;\n",
              "      flex-wrap:wrap;\n",
              "      gap: 12px;\n",
              "    }\n",
              "\n",
              "    .colab-df-convert {\n",
              "      background-color: #E8F0FE;\n",
              "      border: none;\n",
              "      border-radius: 50%;\n",
              "      cursor: pointer;\n",
              "      display: none;\n",
              "      fill: #1967D2;\n",
              "      height: 32px;\n",
              "      padding: 0 0 0 0;\n",
              "      width: 32px;\n",
              "    }\n",
              "\n",
              "    .colab-df-convert:hover {\n",
              "      background-color: #E2EBFA;\n",
              "      box-shadow: 0px 1px 2px rgba(60, 64, 67, 0.3), 0px 1px 3px 1px rgba(60, 64, 67, 0.15);\n",
              "      fill: #174EA6;\n",
              "    }\n",
              "\n",
              "    [theme=dark] .colab-df-convert {\n",
              "      background-color: #3B4455;\n",
              "      fill: #D2E3FC;\n",
              "    }\n",
              "\n",
              "    [theme=dark] .colab-df-convert:hover {\n",
              "      background-color: #434B5C;\n",
              "      box-shadow: 0px 1px 3px 1px rgba(0, 0, 0, 0.15);\n",
              "      filter: drop-shadow(0px 1px 2px rgba(0, 0, 0, 0.3));\n",
              "      fill: #FFFFFF;\n",
              "    }\n",
              "  </style>\n",
              "\n",
              "      <script>\n",
              "        const buttonEl =\n",
              "          document.querySelector('#df-b58fc43d-f14f-44d2-bb95-cbeefe314da3 button.colab-df-convert');\n",
              "        buttonEl.style.display =\n",
              "          google.colab.kernel.accessAllowed ? 'block' : 'none';\n",
              "\n",
              "        async function convertToInteractive(key) {\n",
              "          const element = document.querySelector('#df-b58fc43d-f14f-44d2-bb95-cbeefe314da3');\n",
              "          const dataTable =\n",
              "            await google.colab.kernel.invokeFunction('convertToInteractive',\n",
              "                                                     [key], {});\n",
              "          if (!dataTable) return;\n",
              "\n",
              "          const docLinkHtml = 'Like what you see? Visit the ' +\n",
              "            '<a target=\"_blank\" href=https://colab.research.google.com/notebooks/data_table.ipynb>data table notebook</a>'\n",
              "            + ' to learn more about interactive tables.';\n",
              "          element.innerHTML = '';\n",
              "          dataTable['output_type'] = 'display_data';\n",
              "          await google.colab.output.renderOutput(dataTable, element);\n",
              "          const docLink = document.createElement('div');\n",
              "          docLink.innerHTML = docLinkHtml;\n",
              "          element.appendChild(docLink);\n",
              "        }\n",
              "      </script>\n",
              "    </div>\n",
              "  </div>\n",
              "  "
            ],
            "text/plain": [
              "             0          1          2          3          4          5  \\\n",
              "0   -24.052631  -7.308313   6.023119 -11.855042  -4.026018   4.235047   \n",
              "1   -30.392269  -6.124090  -9.394124 -12.403003 -16.250395  -4.209332   \n",
              "2   -40.689720  -1.737145 -14.706333  -9.182796  -3.575155   1.591406   \n",
              "3   -31.084015   5.900604 -10.848145  16.341608   0.453425  -4.673359   \n",
              "4   -31.860512   0.250140  -2.969397  -4.813212   5.201406   1.077875   \n",
              "..         ...        ...        ...        ...        ...        ...   \n",
              "174  41.868370 -42.808819  -0.630585   0.179925   3.031354 -21.701130   \n",
              "175  13.108624  22.567858   2.565637  74.422958 -15.835024 -22.406250   \n",
              "176  31.351440  43.827309  -2.012079 -25.492165  -6.229031  12.796922   \n",
              "177  40.928211 -36.149387  -2.567742  -8.745031   3.405827 -17.957893   \n",
              "178  32.018661  43.685349   0.404890 -25.942375  -5.125420  15.921499   \n",
              "\n",
              "             6          7          8          9  ...        141       142  \\\n",
              "0     4.629198   7.450704  -1.193925   0.283594  ...   0.730948 -5.368753   \n",
              "1    18.123777  26.876623 -11.464371 -10.298728  ...  -0.156988 -1.897434   \n",
              "2    -6.303109 -19.871731   2.633568  -3.188074  ...  -0.323761  4.527821   \n",
              "3   -14.576808 -24.761694  15.646574  -4.431576  ...   0.933790  0.222904   \n",
              "4   -12.110016  -5.707363   6.771334   1.460532  ...   0.369469  0.003981   \n",
              "..         ...        ...        ...        ...  ...        ...       ...   \n",
              "174  15.378249  -3.581931 -15.064744  -3.455476  ...  -0.738121 -0.282960   \n",
              "175 -36.394875  23.587275  18.361597  12.543007  ...  -0.713579  0.061013   \n",
              "176   9.121084   6.124635  23.289898   9.651016  ...   3.049202 -0.439162   \n",
              "177   0.476254  -4.096447  -2.585455   1.792291  ...  -6.784842  3.111198   \n",
              "178  10.637761   6.878487  24.254574   9.888289  ...  11.308086  9.001393   \n",
              "\n",
              "           143        144        145        146        147        148  \\\n",
              "0    -0.941075   2.200697  -0.212551  -0.346409   0.633629  -0.794190   \n",
              "1    -1.189050   1.407846   2.031697  -0.254302   0.629129  -0.621455   \n",
              "2     1.838418   0.082660   1.242775   0.107580  -1.339644  -0.756711   \n",
              "3    -0.813004   0.348171  -0.116827   0.380993   0.276049   0.388913   \n",
              "4     0.029985   0.784361  -0.663807   0.093001   0.756636  -0.716571   \n",
              "..         ...        ...        ...        ...        ...        ...   \n",
              "174   3.519186 -14.052541 -15.554027  -5.585742 -11.844168  36.552036   \n",
              "175   0.424928   0.165537  -0.562429   0.627574  -0.683178  -0.095810   \n",
              "176   0.308848  -3.777290   0.311121   4.705581  10.790948   3.763995   \n",
              "177 -10.127982  -9.292953  -1.851978  -0.280379  -0.150911  -0.874866   \n",
              "178 -22.732365  -3.028044  -7.389986  23.816704 -13.820813  -0.459040   \n",
              "\n",
              "           149  label  \n",
              "0     0.010791      1  \n",
              "1     0.572916      1  \n",
              "2     0.317032      1  \n",
              "3     0.884402      1  \n",
              "4    -0.789307      1  \n",
              "..         ...    ...  \n",
              "174  47.203747      0  \n",
              "175  -0.255984      0  \n",
              "176   0.803503      0  \n",
              "177  -2.494065      0  \n",
              "178   3.731941      0  \n",
              "\n",
              "[179 rows x 151 columns]"
            ]
          },
          "execution_count": 114,
          "metadata": {},
          "output_type": "execute_result"
        }
      ],
      "source": [
        "df_pca"
      ]
    },
    {
      "cell_type": "code",
      "execution_count": 115,
      "metadata": {
        "colab": {
          "base_uri": "https://localhost:8080/"
        },
        "id": "bpbsMd22DJVX",
        "outputId": "3acb3f46-c73f-4d72-89b4-cb33b323b4d3"
      },
      "outputs": [
        {
          "data": {
            "text/plain": [
              "(89, 25088)"
            ]
          },
          "execution_count": 115,
          "metadata": {},
          "output_type": "execute_result"
        }
      ],
      "source": [
        "from sklearn.model_selection import train_test_split\n",
        "X_train, X_test, y_train, y_test = train_test_split(X, y, test_size=0.5, random_state=42)\n",
        "X_train.shape"
      ]
    },
    {
      "cell_type": "code",
      "execution_count": 116,
      "metadata": {
        "colab": {
          "base_uri": "https://localhost:8080/"
        },
        "id": "oe8NDlf0EuLd",
        "outputId": "7373f020-5dff-4213-8097-31edac941304"
      },
      "outputs": [
        {
          "data": {
            "text/plain": [
              "1.0"
            ]
          },
          "execution_count": 116,
          "metadata": {},
          "output_type": "execute_result"
        }
      ],
      "source": [
        "from sklearn.linear_model import LogisticRegression\n",
        "clf = LogisticRegression(max_iter=100000).fit(X_train, y_train)\n",
        "y_pred = clf.predict(X_test)\n",
        "clf.score(X_test,y_test)"
      ]
    },
    {
      "cell_type": "code",
      "execution_count": 117,
      "metadata": {
        "colab": {
          "base_uri": "https://localhost:8080/"
        },
        "id": "PggvpF6OnOc4",
        "outputId": "cf969baf-abc2-405f-f6ec-fce065a0a034"
      },
      "outputs": [
        {
          "data": {
            "text/plain": [
              "0.9444444444444444"
            ]
          },
          "execution_count": 117,
          "metadata": {},
          "output_type": "execute_result"
        }
      ],
      "source": [
        "from sklearn.pipeline import make_pipeline\n",
        "from sklearn.svm import SVC\n",
        "from sklearn.preprocessing import StandardScaler\n",
        "clf = make_pipeline(StandardScaler(), SVC(gamma='auto',kernel='linear'))\n",
        "clf.fit(X_train, y_train)\n",
        "clf.score(X_test,y_test)"
      ]
    },
    {
      "cell_type": "code",
      "execution_count": 118,
      "metadata": {
        "colab": {
          "base_uri": "https://localhost:8080/"
        },
        "id": "OTW-9EMynQYM",
        "outputId": "eb1ab62c-d4d1-49f9-8fce-0dd1c047eb09"
      },
      "outputs": [
        {
          "data": {
            "text/plain": [
              "0.7444444444444445"
            ]
          },
          "execution_count": 118,
          "metadata": {},
          "output_type": "execute_result"
        }
      ],
      "source": [
        "from sklearn.pipeline import make_pipeline\n",
        "from sklearn.svm import SVC\n",
        "from sklearn.preprocessing import StandardScaler\n",
        "clf = make_pipeline(StandardScaler(), SVC(gamma='auto',kernel='rbf'))\n",
        "clf.fit(X_train, y_train)\n",
        "clf.score(X_test,y_test)"
      ]
    },
    {
      "cell_type": "code",
      "execution_count": 119,
      "metadata": {
        "colab": {
          "base_uri": "https://localhost:8080/"
        },
        "id": "9uz3WeoinSa4",
        "outputId": "28c96646-f970-46db-d621-842a331e6e75"
      },
      "outputs": [
        {
          "data": {
            "text/plain": [
              "1.0"
            ]
          },
          "execution_count": 119,
          "metadata": {},
          "output_type": "execute_result"
        }
      ],
      "source": [
        "from sklearn.ensemble import RandomForestClassifier\n",
        "clf = RandomForestClassifier(max_depth=10, random_state=42)\n",
        "clf.fit(X_train, y_train)\n",
        "clf.score(X_test,y_test)"
      ]
    },
    {
      "cell_type": "code",
      "execution_count": 120,
      "metadata": {
        "colab": {
          "base_uri": "https://localhost:8080/"
        },
        "id": "mlsfGsXcnUzt",
        "outputId": "5d0c7ac6-a750-449d-86ce-50f536d963cf"
      },
      "outputs": [
        {
          "data": {
            "text/plain": [
              "1.0"
            ]
          },
          "execution_count": 120,
          "metadata": {},
          "output_type": "execute_result"
        }
      ],
      "source": [
        "from sklearn.ensemble import RandomForestClassifier\n",
        "clf = RandomForestClassifier(max_depth=20, random_state=42)\n",
        "clf.fit(X_train, y_train)\n",
        "clf.score(X_test,y_test)"
      ]
    },
    {
      "cell_type": "code",
      "execution_count": 121,
      "metadata": {
        "colab": {
          "base_uri": "https://localhost:8080/"
        },
        "id": "gK2gHAV7nW5l",
        "outputId": "b6e5215a-c92e-4268-eff9-f27e05b0adc9"
      },
      "outputs": [
        {
          "data": {
            "text/plain": [
              "1.0"
            ]
          },
          "execution_count": 121,
          "metadata": {},
          "output_type": "execute_result"
        }
      ],
      "source": [
        "from sklearn.ensemble import RandomForestClassifier\n",
        "clf = RandomForestClassifier(max_depth=50, random_state=42)\n",
        "clf.fit(X_train, y_train)\n",
        "clf.score(X_test,y_test)"
      ]
    },
    {
      "cell_type": "code",
      "execution_count": 122,
      "metadata": {
        "colab": {
          "base_uri": "https://localhost:8080/"
        },
        "id": "ojD6jrHQnY_0",
        "outputId": "d28be071-edda-452c-a8a5-0a210dd3e47c"
      },
      "outputs": [
        {
          "data": {
            "text/plain": [
              "1.0"
            ]
          },
          "execution_count": 122,
          "metadata": {},
          "output_type": "execute_result"
        }
      ],
      "source": [
        "from sklearn.ensemble import RandomForestClassifier\n",
        "clf = RandomForestClassifier(max_depth=20, random_state=42,n_estimators=500)\n",
        "clf.fit(X_train, y_train)\n",
        "clf.score(X_test,y_test)"
      ]
    },
    {
      "cell_type": "code",
      "execution_count": 123,
      "metadata": {
        "colab": {
          "base_uri": "https://localhost:8080/"
        },
        "id": "ezr9oSU6nbRQ",
        "outputId": "87ebae5e-4113-4962-cca3-daeed3823cf3"
      },
      "outputs": [
        {
          "data": {
            "text/plain": [
              "1.0"
            ]
          },
          "execution_count": 123,
          "metadata": {},
          "output_type": "execute_result"
        }
      ],
      "source": [
        "from sklearn.neighbors import KNeighborsClassifier\n",
        "neigh = KNeighborsClassifier(n_neighbors=5)\n",
        "neigh.fit(X_train, y_train)\n",
        "neigh.score(X_test,y_test)"
      ]
    }
  ],
  "metadata": {
    "accelerator": "GPU",
    "colab": {
      "provenance": []
    },
    "gpuClass": "standard",
    "kernelspec": {
      "display_name": "Python 3",
      "name": "python3"
    },
    "language_info": {
      "name": "python"
    }
  },
  "nbformat": 4,
  "nbformat_minor": 0
}
